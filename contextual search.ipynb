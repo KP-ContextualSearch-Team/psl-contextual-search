{
 "cells": [
  {
   "cell_type": "code",
   "execution_count": null,
   "id": "e244ceb0",
   "metadata": {},
   "outputs": [],
   "source": [
    "#importing required libraries\n",
    "from haystack.utils import clean_wiki_text, convert_files_to_docs, fetch_archive_from_http, print_answers\n",
    "from haystack.nodes import FARMReader\n",
    "from haystack.nodes import TextConverter, PDFToTextConverter, PreProcessor\n",
    "import os\n",
    "\n",
    "import warnings\n",
    "warnings.filterwarnings(\"ignore\")"
   ]
  },
  {
   "cell_type": "code",
   "execution_count": null,
   "id": "697d5e77",
   "metadata": {},
   "outputs": [],
   "source": [
    "from haystack.document_stores import InMemoryDocumentStore,SQLDocumentStore\n",
    "\n",
    "#Using In memory document store to save corpus\n",
    "document_store = InMemoryDocumentStore()\n",
    "\n",
    "# document_store = SQLDocumentStore(url=\"sqlite:///qa.db\")"
   ]
  },
  {
   "cell_type": "code",
   "execution_count": null,
   "id": "78f947b4",
   "metadata": {},
   "outputs": [],
   "source": [
    "# filename = \"Employee Manual_India.pdf\"\n",
    "# converter = PDFToTextConverter(remove_numeric_tables=True, valid_languages=[\"en\"])\n",
    "# doc_pdf = converter.convert(file_path=str(\"E:\\\\AA_TE_SEM_VI\\\\persistant\\\\learning material\\\\contextual search\\\\data\\\\\" + filename), meta=None)[0]\n",
    "# doc_pdf\n",
    "data_dir = os.getcwd() + \"\\\\data\\\\\"\n",
    "\n",
    "#iterating and converting pdf files to document type\n",
    "all_docs = convert_files_to_docs(dir_path=data_dir)"
   ]
  },
  {
   "cell_type": "code",
   "execution_count": null,
   "id": "652806ea",
   "metadata": {},
   "outputs": [],
   "source": [
    "all_docs[0]"
   ]
  },
  {
   "cell_type": "code",
   "execution_count": null,
   "id": "f5808709",
   "metadata": {},
   "outputs": [],
   "source": [
    "#cleaning the document\n",
    "preprocessor = PreProcessor(\n",
    "    clean_empty_lines=True,\n",
    "    clean_whitespace=True,\n",
    "    clean_header_footer=True, #false hota\n",
    "    split_by=\"word\",\n",
    "    split_length=100,\n",
    "    split_respect_sentence_boundary=True,\n",
    ")\n",
    "\n",
    "docs = preprocessor.process(all_docs)\n",
    "print(f\"\\n n_files_input: {len(all_docs)}\\n n_docs_output: {len(docs)}\")\n",
    "\n",
    "document_store.write_documents(docs)"
   ]
  },
  {
   "cell_type": "code",
   "execution_count": null,
   "id": "63ba9a64",
   "metadata": {},
   "outputs": [],
   "source": [
    "len(docs)"
   ]
  },
  {
   "cell_type": "code",
   "execution_count": null,
   "id": "5fc16e9c",
   "metadata": {},
   "outputs": [],
   "source": [
    "from haystack.nodes import BM25Retriever,TfidfRetriever\n",
    "from haystack.pipelines import ExtractiveQAPipeline\n",
    "from haystack.nodes import FARMReader, TransformersReader\n",
    "from haystack.nodes import EmbeddingRetriever"
   ]
  },
  {
   "cell_type": "code",
   "execution_count": null,
   "id": "a824991b",
   "metadata": {},
   "outputs": [],
   "source": [
    "#creating input output pipeline\n",
    "\n",
    "retriever = TfidfRetriever(document_store=document_store)\n",
    "# retriever = BM25Retriever(document_store=document_store) #worked with elasticsearch as document store on colab\n",
    "\n",
    "reader = FARMReader(model_name_or_path=\"deepset/roberta-base-squad2\")\n",
    "\n",
    "pipe = ExtractiveQAPipeline(reader, retriever)"
   ]
  },
  {
   "cell_type": "code",
   "execution_count": null,
   "id": "ce4df46a",
   "metadata": {},
   "outputs": [],
   "source": [
    "# prediction = pipe.run(query=\"What is the frequency of project party?\", params={\"Retriever\": {\"top_k\": 10}, \"Reader\": {\"top_k\": 5}})\n",
    "\n",
    "prediction = pipe.run(query=\"What is the budget for project party?\", params={\"Retriever\": {\"top_k\": 10}, \"Reader\": {\"top_k\": 5}})"
   ]
  },
  {
   "cell_type": "code",
   "execution_count": null,
   "id": "6a103a97",
   "metadata": {},
   "outputs": [],
   "source": [
    "from pprint import pprint\n",
    "# print(len(prediction))\n",
    "pprint(prediction)\n",
    "\n",
    "\n",
    "# {'answer': 'Once in six months', \n",
    "#  'type': 'extractive',\n",
    "#  'score': 0.5211937427520752, \n",
    "#  'context': 'es are held outside normal working hours. 2. Budget:\\n• Frequency: Once in six months (i.e. 2 times in year)\\n• Amount: Rs. 750/- per head per duration\\n',\n",
    "#  'offsets_in_document': [{'start': 470, 'end': 488}],\n",
    "#  'offsets_in_context': [{'start': 66, 'end': 84}],\n",
    "#  'document_id': '6d7afbcd7156492026b208c99c427021', \n",
    "#  'meta': {'name': 'Employee Manual_India.pdf', '_split_id': 236}\n",
    "# }"
   ]
  },
  {
   "cell_type": "code",
   "execution_count": null,
   "id": "2d3cc5ef",
   "metadata": {},
   "outputs": [],
   "source": [
    "print_answers(prediction, details=\"medium\")"
   ]
  },
  {
   "cell_type": "code",
   "execution_count": null,
   "id": "6fbeebd9",
   "metadata": {},
   "outputs": [],
   "source": [
    "# prediction"
   ]
  },
  {
   "cell_type": "code",
   "execution_count": null,
   "id": "a4dc934c",
   "metadata": {},
   "outputs": [],
   "source": [
    "retriever2 = EmbeddingRetriever(\n",
    "    document_store=document_store,\n",
    "    embedding_model=\"sentence-transformers/multi-qa-mpnet-base-dot-v1\",\n",
    "    model_format=\"sentence_transformers\"\n",
    ")\n",
    "\n",
    "document_store.update_embeddings(retriever2)\n",
    "\n",
    "reader2 = FARMReader(model_name_or_path=\"deepset/roberta-base-squad2\")\n",
    "\n",
    "pipe2 = ExtractiveQAPipeline(reader2, retriever2)\n",
    "\n",
    "prediction2 = pipe2.run(query=\"What is the budget for project party?\", params={\"Retriever\": {\"top_k\": 10}, \"Reader\": {\"top_k\": 5}})\n",
    "\n",
    "# print(len(prediction))\n",
    "pprint(prediction2)\n",
    "#~ 7-8min to train"
   ]
  },
  {
   "cell_type": "code",
   "execution_count": null,
   "id": "e434f3ba",
   "metadata": {},
   "outputs": [],
   "source": [
    "print_answers(prediction2, details=\"medium\")"
   ]
  },
  {
   "cell_type": "code",
   "execution_count": null,
   "id": "a1c3bbff",
   "metadata": {
    "scrolled": false
   },
   "outputs": [],
   "source": [
    "#Trial1 : using elasticsearch\n",
    "\n",
    "# import os\n",
    "# import time\n",
    "# from subprocess import Popen, PIPE, STDOUT\n",
    "# from haystack.document_stores import ElasticsearchDocumentStore\n",
    "# from haystack.utils import launch_es\n",
    "# curr_dir = os.getcwd()\n",
    "\n",
    "# launch_es()\n",
    "# es_server = Popen([curr_dir + \"\\\\elasticsearch-7.9.2\\\\bin\\\\elasticsearch.bat\"], stdout=PIPE, stderr=STDOUT)\n",
    "\n",
    "# print(\"Waiting for ES to start...\")\n",
    "# time.sleep(30) # Waiting until ES has started\n",
    "\n",
    "# # JubJObatm9NMq3cJLOa4\n",
    "# document_store = ElasticsearchDocumentStore(host=\"localhost\", username=\"\", password=\"\", index=\"document\")"
   ]
  },
  {
   "cell_type": "code",
   "execution_count": null,
   "id": "ae336c10",
   "metadata": {},
   "outputs": [],
   "source": []
  }
 ],
 "metadata": {
  "kernelspec": {
   "display_name": "Python 3 (ipykernel)",
   "language": "python",
   "name": "python3"
  },
  "language_info": {
   "codemirror_mode": {
    "name": "ipython",
    "version": 3
   },
   "file_extension": ".py",
   "mimetype": "text/x-python",
   "name": "python",
   "nbconvert_exporter": "python",
   "pygments_lexer": "ipython3",
   "version": "3.8.5"
  }
 },
 "nbformat": 4,
 "nbformat_minor": 5
}
