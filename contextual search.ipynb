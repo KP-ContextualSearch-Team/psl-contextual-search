{
 "cells": [
  {
   "cell_type": "code",
   "execution_count": 5,
   "id": "e244ceb0",
   "metadata": {},
   "outputs": [],
   "source": [
    "from haystack.utils import clean_wiki_text, convert_files_to_docs, fetch_archive_from_http, print_answers\n",
    "from haystack.nodes import FARMReader\n",
    "from haystack.nodes import TextConverter, PDFToTextConverter, PreProcessor\n",
    "import os\n",
    "\n",
    "import warnings\n",
    "warnings.filterwarnings(\"ignore\")"
   ]
  },
  {
   "cell_type": "code",
   "execution_count": 2,
   "id": "697d5e77",
   "metadata": {},
   "outputs": [
    {
     "name": "stderr",
     "output_type": "stream",
     "text": [
      "INFO - haystack.modeling.utils -  Using devices: CPU\n",
      "INFO - haystack.modeling.utils -  Number of GPUs: 0\n"
     ]
    }
   ],
   "source": [
    "from haystack.document_stores import InMemoryDocumentStore,SQLDocumentStore\n",
    "\n",
    "document_store = InMemoryDocumentStore()\n",
    "\n",
    "# document_store = SQLDocumentStore(url=\"sqlite:///qa.db\")"
   ]
  },
  {
   "cell_type": "code",
   "execution_count": 6,
   "id": "78f947b4",
   "metadata": {},
   "outputs": [
    {
     "name": "stderr",
     "output_type": "stream",
     "text": [
      "INFO - haystack.utils.preprocessing -  Converting E:\\AA_TE_SEM_VI\\persistant\\learning material\\contextual search\\data\\24_Acceptable Use Policy.pdf\n",
      "INFO - haystack.utils.preprocessing -  Converting E:\\AA_TE_SEM_VI\\persistant\\learning material\\contextual search\\data\\Employee Manual_India.pdf\n"
     ]
    }
   ],
   "source": [
    "# filename = \"Employee Manual_India.pdf\"\n",
    "# converter = PDFToTextConverter(remove_numeric_tables=True, valid_languages=[\"en\"])\n",
    "# doc_pdf = converter.convert(file_path=str(\"E:\\\\AA_TE_SEM_VI\\\\persistant\\\\learning material\\\\contextual search\\\\data\\\\\" + filename), meta=None)[0]\n",
    "# doc_pdf\n",
    "data_dir = os.getcwd() + \"\\\\data\\\\\"\n",
    "\n",
    "all_docs = convert_files_to_docs(dir_path=data_dir)"
   ]
  },
  {
   "cell_type": "code",
   "execution_count": 10,
   "id": "652806ea",
   "metadata": {},
   "outputs": [
    {
     "data": {
      "text/plain": [
       "<Document: {'content': 'Persistent India Bhageerath, 402 Senapati Bapat Road, Pune 411 016 • +91 (20) 6703 0000\\nAcceptable Use Policy\\nEnterprise Information Systems\\nImportant: The printed copy of this document is not under control\\x0cPSL-ISC-POL-016 Persistent Confidential Page | 2\\nDocument Control\\nDocument\\nNo.\\nDocument\\nName\\nExecutive Summary Revision\\nNo.\\nEffective\\nfrom Date\\nClassification\\nPSL-ISC-\\nPOL-016\\nAcceptable\\nUse Policy\\nThis policy establishes\\nthe acceptable handling\\nand usage of Persistent\\ninformation systems by\\nPersistent users.\\n6.4 02 May 2022 Internal Use Only\\nAuthorizations\\nOwner Custodian Distribution List\\nEIS EIS InfoSec & Compliance DU Persistent Systems and\\nSubsidiaries\\x0cPSL-ISC-POL-016 Persistent Confidential Page | 3\\nTable of Contents\\n1. Preamble.........................................................................................................................................4\\n2. Terminology and Abbreviations...............................................................................................4\\n3. Scope...............................................................................................................................................5\\n4. Objective.........................................................................................................................................5\\n5. References and ISO/IEC Controls Addressed......................................................................5\\n5.1. References.............................................................................................................................5\\n5.2. ISO/IEC 27001 Controls Addressed.................................................................................5\\n6. Roles and Responsibility...........................................................................................................6\\n7. Policy...............................................................................................................................................6\\n7.1. General Use and Ownership .............................................................................................6\\n7.2. Security and Proprietary Information .............................................................................7\\n7.3. Inadvertent Access..............................................................................................................7\\n7.4. Software Installation and Compliance............................................................................7\\n7.5. Unacceptable Use ................................................................................................................8\\n8. Enforcement and Compliance ................................................................................................14\\n9. Review...........................................................................................................................................14\\n10. Exception Handling ...............................................................................................................14\\n10.1. Due diligence for new exceptions .............................................................................14\\n10.2. Maintenance of Records ..............................................................................................14\\n10.3. Exception Review: .........................................................................................................14\\n11. Contact for Queries ...............................................................................................................15\\n12. Version Control.......................................................................................................................15\\x0cPSL-ISC-POL-016 Persistent Confidential Page | 4\\n1. Preamble\\nPersistent Systems Ltd. and all its subsidiaries (collectively referred to as Persistent in this policy)\\nemployees are provided access to information systems (including hardware, software, data,\\nconnectivity and all allied assets) for conduct of business functions according to their roles.\\nAdditionally, employees are permitted to use these for limited personal work. Employees are\\nrequired to make themselves aware of and adhere to all rules made for use of these systems,\\nexercise due diligence and not take unlawful actions to disrupt or damage these systems or to\\ndisrupt others’ use of the same. They are not permitted to use these systems to carry out any\\nunlawful or malicious activities.\\n2. Terminology and Abbreviations\\nStandard terminologies used in this document\\nInformation System\\nAsset/Systems in the context of this policy includes all allied assets\\nincluding but not limited to:\\nComputer equipment, e.g., servers, desktop, laptops, mobile\\nphones, tablets, printers.\\nStorage Media, e.g., hard drives, USB storage devices, network\\nattached storage.\\nConnectivity including network infrastructure, e.g., routers, firewall,\\ntelecommunications (landline and mobile networks).\\nSoftware and related services including but not limited to on\\npremise and cloud services.\\nData resident or processed on such information systems.\\nInformation Media\\nAny device being used to store, process or transmit Persistent or\\ncustomer data and/or information.\\nInformation\\nData that is (1) accurate and timely, (2) specific and organized for\\na purpose, (3) presented within a context that gives it meaning and\\nrelevance, and (4) can lead to an increase in understanding and\\ndecrease in uncertainty or formation of an informed opinion.\\nService Owner (Includes\\nProcess Owners)\\nPerson accountable for a specific service (Infrastructure,\\nApplication or Professional) within Persistent regardless of where\\nthe technology components or professional capabilities reside.\\nService owners typically belongs to EIS, but other\\nfunctions/business units may be able to provide services at the\\nenterprise level or within their function/business units.\\nSocial Networking\\nA variety of applications, usually web‐based, which allow users to\\nshare content, interact with each other and develop communities\\naround similar interests. Some examples of social networking\\napplications are Facebook, Blogger, Twitter, LinkedIn, Flickr,\\nWhatsApp and numerous other sites.\\nSocial Media\\nSocial media includes any website in which visitors can publish\\ncontent to a larger group. Content shared may include (but is not\\nlimited to) personal information, opinions, research, commentary,\\nvideo, pictures, or business information. Examples of such\\x0cPSL-ISC-POL-016 Persistent Confidential Page | 5\\ndestinations include branded entities such as Facebook, Twitter,\\nYouTube, and LinkedIn. However, blogs, special interest forums,\\nuser communities are also considered social media.\\nStandard abbreviations used in this document\\nSIRT Security Incident Response Team\\nISMS Information Security Management Systems\\nEIS Enterprise Information Systems\\nERP Enterprise Resource Planning\\nVM Virtual Machine\\n3. Scope\\nThis policy is applicable across all Persistent facilities for all employees, contractors and third\\nparties handling or working with Persistent information and/or information systems.\\n4. Objective\\nThe objective of this policy is to outline the acceptable use of all Persistent information and\\ninformation systems. Persistent, being a software engineering and services company, operates\\nin a complex information systems environment, including various types of hardware, software and\\nconnectivity to carry out its business. To ensure security and business continuity, it is necessary\\nthat all access to such systems is regulated and monitored. Every user of these systems has a\\nrole to play in ensuring these objectives.\\n5. References and ISO/IEC Controls Addressed\\n5.1. References\\n• Information Security Policy\\n• Access Control Policy\\n• Information Media Handling Procedure\\n• Password Policy\\n• Data Governance Policy\\n5.2. ISO/IEC 27001 Controls Addressed\\n• A.8.1.3 - Acceptable use of assets\\x0cPSL-ISC-POL-016 Persistent Confidential Page | 6\\n6. Roles and Responsibility\\nRole Responsibility\\nAll Users a) Understand and adhere to the Acceptable Use Policy\\nService Owner(s) a) Implement and maintain the information systems and media\\nb) Ensure that controls are implemented as per the security\\npolicy requirements\\nEIS InfoSec & Compliance a) Establish the security controls requirements\\nb) Investigate reported non-compliance\\nc) Raise SIRT in cases of confirmed non-compliance.\\nd) Provisioning of exception to Password Policy clauses to the\\nusers.\\nPeople Management a) Initiate action against the employee if any non-compliance\\nadhered.\\nb) Ensure policy signoff at the time of onboarding & maintain\\nrecord in ERP.\\nEIS a) Provisioning of social media websites to all users.\\nb) Blocking of websites which are malicious or based on\\nreputation of the websites or requests.\\n7. Policy\\n7.1. General Use and Ownership\\na) Persistent proprietary information stored on physical media and electronic and\\ncomputing devices, whether owned or leased by Persistent, the employee or a\\nthird party, remains the sole property of Persistent. You must ensure through legal\\nor technical means that proprietary information is protected in accordance with the\\nData Governance Policy.\\nb) All employees have a responsibility to report the theft, loss or unauthorized\\ndisclosure of Persistent proprietary information or asset under the user’s control or\\nthat is brought to your notice.\\nc) Users may access, use or share Persistent proprietary information only to the\\nextent it is authorized and necessary to fulfill the user’s assigned role.\\nd) Employees are responsible while using the information for personal use & due\\nrationality must be exercised. If there is any uncertainty, employees shall consult\\ntheir respective managers and EIS InfoSec & Compliance team. Employees shall\\nnot retain any non-corporate personal data such as personal photographs, medical\\nreports, family documents etc. on corporate information assets allocated to them.\\ne) For security and network maintenance purposes, authorized individuals within\\nPersistent may monitor and audit information systems.\\nf) Persistent Information Systems have users in privileged access roles who have\\naccess beyond regular workflows. Such access needs to be used for no other\\x0cPSL-ISC-POL-016 Persistent Confidential Page | 7\\npurpose or role other than for service management or system administration or for\\nthat specific purpose for which access was provided to such user.\\n7.2. Security and Proprietary Information\\na) All users shall not use non-Persistent information systems to process, handle,\\nstore or manage persistent information unless specifically authorized.\\nb) All users are responsible to secure the credentials provided to them and should not\\nshare these with anyone. System level passwords and user level passwords\\nshould be changed as per password policy unless an exception is authorized by\\nthe InfoSec team.\\nc) Before attempting to give access to Persistent Information systems, Service\\nowners need to ensure and confirm that they have adequate authority to grant\\nsuch access and a clear record of granting as well as revoking of such access\\nshall be maintained. End users should be aware that all such access is subject to\\naudit and regulatory requirements. Providing access to another individual, either\\ndeliberately or through failure to secure its access, is prohibited.\\nd) Service owners should ensure that ownership and access are enforced as\\ngranularly as possible using all technical means at their disposal.\\ne) There may be situations where Persistent users are required to share information\\nwith people outside Persistent or to provide access to resources to Non-Persistent\\nentities. Such access needs to be properly circumscribed and supported by all\\nrequired approvals. In general, all access to non-persistent entities needs to be\\ncleared by InfoSec & compliance.\\n7.3. Inadvertent Access\\nMalicious agent/intruders can gain access to Persistent information and information\\nsystems through errors committed by authorized/privileged users. The following should\\nbe ensured to prevent the same:\\na) Any information that the user consider sensitive or vulnerable should be password\\nprotected, where possible or it should be encrypted.\\nb) All users must lock the screen or log off when the device is unattended.\\nc) Employees must use extreme caution when opening e-mail with attachments or\\nlinks which they received from unknown senders, which may contain malware.\\n7.4. Software Installation and Compliance\\na) In general, software may only be installed on specific hardware/Virtual machine for\\nwhich specific permission has been provided.\\nb) Installation of personal (licensed/procured/freeware/shareware) software is\\nprohibited.\\nc) Any planned software installation must be communicated to Software Compliance\\nteam, along with business justification and business manager approval, for\\nreviewing the license terms. Software may only be installed on positive\\nconfirmation or by automated installation using Persistent software repositories.\\x0cPSL-ISC-POL-016 Persistent Confidential Page | 8\\n7.5. Unacceptable Use\\nThe following activities are, in general, prohibited. Employees may be exempted from\\nthese restrictions during their legitimate job responsibilities.\\na) Under no circumstances is an employee authorized to engage in any activity that is\\nillegal under local, state, federal or international law while utilizing Persistent\\nInformation Systems and Persistent/customer owned resources.\\n7.5.1. Use of Corporate Endpoints\\na) Users are advised that the PSL provided asset( individually allocated, project\\nallocated or otherwise) including VMs, Cloud, Servers, Laptops, Desktops or any\\nother device having compliance requirements must be connected to the PSL\\nintranet/ Internet at least for one full day in a week. This is a mandatory requirement\\nof compliance and failure to adhere to the same may call for strict actions as per\\nSIRT policy.\\nb) Users are advised to ensure that post exit from a project, they need to ensure to\\nremove all project sensitive & customer confidential data from their user endpoint\\nand/or personal backups. It is expected that such data will be handed over to project\\nmanager in case it needs to be retained. Such data shall be held in project\\nrepositories.\\n7.5.2.System and Network Activities\\nThe following activities are strictly prohibited, with no exceptions:\\na) Violations of the rights of any person or company protected by copyright, trade\\nsecret, patent or other intellectual property, or similar laws or regulations, including,\\nbut not limited to, the installation or distribution of \"pirated\" or other software\\nproducts that are not appropriately licensed for use by Persistent.\\nb) Unauthorized copying of copyrighted material, downloading / distributing / storage\\nof pornography, MP3, audio, video, games etc. is not acceptable.\\nc) Downloading/installing/using freeware/shareware or any software tools which is of\\nnon-business in nature and not approved by the business is prohibited.\\nd) Revealing your corporate credentials to others or allowing use of your credentials\\nby others. This includes family and other household members when work is being\\ndone at home is prohibited.\\ne) Sharing company/official information, Persistent employee personal information\\n(such as providing information about, phone numbers of, or lists of, Persistent\\nemployees) to parties outside Persistent Systems or customer provided\\ninformation with unauthorized personnel within or outside of company be strictly\\nprohibited. Any employee found guilty of such an offence shall be subjected to\\nsuitable disciplinary action as per the company policy.\\nf) Introduction of malicious programs into the network or server (e.g., viruses, worms,\\nTrojan horses, e-mail bombs, etc.).\\x0cPSL-ISC-POL-016 Persistent Confidential Page | 9\\ng) Using a Persistent information system to actively engage in procuring or\\ntransmitting material that is fraudulent, harassing, embarrassing, sexually explicit,\\nprofane, obscene, defamatory or otherwise inappropriate or unlawful.\\nh) Tampering, disengaging or otherwise circumventing information systems security\\ncontrols.\\ni) Making fraudulent offers of products, items, or services originating from any\\nPersistent’s account.\\nj) Connecting devices to Persistent infrastructure, without prior notification and\\nconsent of EIS and InfoSec teams against a valid business justification and\\napproval by manager at laid down level.\\nk) Effecting security breaches or disruptions of network communication. Security\\nbreaches include, but are not limited to, accessing data of which the employee is\\nnot an intended recipient or logging into a server or account that the employee is\\nnot expressly authorized to access, unless these duties are within the scope of\\nregular duties. For purposes of this section, “disruption” includes, but is not limited\\nto, network sniffing, pinged floods, packet spoofing, denial of service, and forged\\nrouting information for malicious purposes.\\nl) Port scanning or security scanning is expressly prohibited unless prior notification\\nto EIS and InfoSec is made, and the activity is authorized by InfoSec &\\nCompliance DU.\\nm) Executing any form of network monitoring which shall intercept data not intended\\nfor the employee’s host unless this activity is a part of the employee’s normal\\njob/duty.\\nn) Circumventing user authentication or security of any host, network or account.\\no) Interfering with or denying service to any user other than the employee’s host (for\\nexample, denial of service attack).\\np) Introducing honeypots, honey nets, or similar technology on Persistent information\\nsystems\\nq) Using any program/script/command, or sending messages of any kind, with the\\nintent to interfere with, or disable, a user\\'s terminal session via any means, locally\\nor via the Internet/Intranet/Extranet.\\nr) Providing unauthorized third parties, including family and friends, access to the\\nPersistent information systems, resources or facilities\\ns) Access - Users are required to be aware of locking and access restriction\\nmechanisms. Users are responsible to secure and maintain integrity of account(s),\\npasswords, Personal Identification Numbers (PIN), Security Tokens (i.e.,\\nSmartcard), or similar information or devices used for identification and\\nauthorization purposes. Users shall not share any of the identification and\\nauthorization methods with others.\\nt) Cloud Computing and Storage\\ni. Persistent Users may not store Persistent data on any non-Persistent approved\\nstorage sites.\\x0cPSL-ISC-POL-016 Persistent Confidential Page | 10\\nii. Personal cloud services accounts must not be used for the storage,\\nmanipulation or exchange of Persistent-related communications or Persistent-\\nowned data\\n7.5.3. Use of Personal Computing Endpoints to connect to Persistent\\nInformation Systems\\na) As per Persistent’s policies, company owned assets are provided for all business\\nuse. Use of Personal endpoints is not authorized for any business use or to\\nconnect to any business or persistent information asset.\\nb) Connecting/usage of unauthorized personal devices is strictly prohibited under this\\npolicy\\n7.5.4.Email and Communications Activities\\nWhen using Persistent information systems, users must realize that they represent the\\ncompany. Whenever employees state an affiliation to Persistent, they must also clearly\\nindicate that \"the opinions expressed are my own and not necessarily those of the\\ncompany\". The following activities are strictly prohibited, with no exceptions:\\na) Sending unsolicited email messages, including the sending of “junk mail”, chain\\nmails or other advertising material to individuals who did not specifically request\\nsuch material (email spam).\\nb) Any form of harassment via email or telephone.\\nc) Unauthorized use, or forging, of email header information.\\nd) Solicitation of email for any other email address, other than that of the poster’s\\naccount, with the intent to harass.\\ne) Sharing personal information, sensitive or confidential information owned by\\nPersistent or its customer, with unauthorized users.\\nf) Usage of corporate email to subscribe to non-business services.\\ng) Connecting to commercial email systems (e.g., Gmail, Hotmail, Yahoo) without\\nprior management approval. Users must recognize the inherent risk in using\\ncommercial email services as email is often used to distribute malware.\\n7.5.5.Photography\\na) Photography is in general forbidden within all Persistent facilities except for atrium,\\ncafeteria and the courtyard. Inadvertent loss of information can happen through\\nphotos of screens or documents with data on them.\\nb) Photos of structure and layout of Persistent controlled workspaces, whether office,\\nadmin or security facilities is Persistent Confidential information and the standard\\nrules of dealing with such information will apply.\\nc) Valid business approval is needed for photography to be permitted within premises\\nfor business reasons. In such a case user must ensure\\ni. Photos cannot cover any computer screen/whiteboard/ projection screen with\\nPersistent data and/or customer data on it.\\nii. Camera must be registered with security.\\x0cPSL-ISC-POL-016 Persistent Confidential Page | 11\\niii. All photos taken in prohibited areas need to be deleted from camera and need\\nto be held and reviewed by business approver. The approver must ensure any\\nphotography must comply with all provisions in this policy\\n7.5.6.Use of Social Media\\na) Blogging and social media usage, whether using Persistent information systems or\\npersonal computer systems, is also subject to terms and restrictions set forth in\\nthis policy. Your personal blogging and social media usage should not violate\\nPersistent policies, not be detrimental to Persistent’s best interests and should not\\ninterfere with regular work duties of Persistent personnel.\\nb) Do not use the same passwords for social media that you use to access Persistent\\nInformation Systems and computing resources.\\nc) Users are prohibited from revealing or using any Persistent confidential or\\nproprietary information, trade secrets or any other material covered by Persistent\\npolicies when engaged in blogging or social media. Do not comment on Persistent\\nstock price or confidential financial information such as future business\\nperformance or business plans. Do not register accounts using the Persistent\\nbrand name or any other unregistered or registered trademarks.\\nd) Do not conduct confidential business with a customer or partner business through\\nyour personal or other social media.\\ne) You are responsible for all content posted and activity that occurs under your\\naccount on social media and blogs and Persistent will not be liable for any loss or\\ndamage through any social media.\\nf) Employees shall not engage in any blogging or social media that may harm or\\ntarnish the image, reputation and/or goodwill of Persistent Systems and/or any of\\nits employees. Employees are also prohibited from making any discriminatory,\\ndisparaging, defamatory or harassing comments when blogging or on social media\\nor otherwise engaging in any conduct prohibited by Persistent Systems policies.\\nDo not use ethnic slurs, personal insults, obscenity, or engage in any conduct that\\nwould not be acceptable in the Persistent workplace. You should also show proper\\nconsideration for others’ privacy and for topics that may be considered\\nobjectionable or inflammatory.\\ng) Employees may also not attribute personal statements, opinions or beliefs to\\nPersistent Systems when engaged in blogging or social media. If an employee is\\nexpressing his or her beliefs and/or opinions in blogs or social media, the\\nemployee may not, expressly or implicitly, represent themselves as an employee\\nor representative of Persistent Systems. Employees assume all risk associated\\nwith blogging and social media.\\nh) Apart from following all laws pertaining to the handling and disclosure of\\ncopyrighted or export-controlled materials, Persistent Systems’ trademarks, logos\\nand any other Persistent Systems intellectual property may also not be used in\\nconnection with any blogging or social media activity. You are sole responsible for\\nany cybercrime reported against you through any social media even when you are\\x0cPSL-ISC-POL-016 Persistent Confidential Page | 12\\nusing it through Persistent information systems. Persistent will not entertain any\\nsuch reports and will not be responsible for the same.\\n7.5.7. Personal Use of Social media activities\\nIt is understood that some individuals performing work on behalf of Persistent will be\\nactive on social media. Do adhere to the below points.\\na) Access to social media must be confined to limited personal use. Ensure that your\\nactions do not violate Persistent acceptable usage and other ISMS policies.\\nb) Do not use your corporate email ID on any non-Persistent website. It may only be\\nused if it is in pursuance of your professional role. Further, you are required to\\nensure that the password linked to your ID within Persistent’s system is never used\\non any public websites, with or without your Persistent ID.\\nc) If you are discussing products or services provided by Persistent Systems or any\\nof its subsidiaries, you must identify yourself as on employee and make it clear that\\nthe views are yours and do not represent the views of Persistent Systems.\\nd) You must not speak disparagingly about persistent systems, its employees or\\nofficers, or any product or service provided by Persistent Systems.\\ne) You should show proper consideration for others\\' privacy and for topics that may\\nbe considered objectionable or provocative. Do not use ethnic slurs, personal\\ninsults, obscenity, or engage in any conduct that would be against the Code of\\nConduct policy of Persistent.\\nf) You are responsible for all content posted, liked or shared and activity that occurs\\nunder your account. Persistent will not be liable for any loss, damage or issues\\narising through usage of any social media by individuals.\\ng) You are solely responsible for any cybercrime reported against you through usage\\nof any social media using Persistent network.\\nh) Do not register accounts using the Persistent brand name or any other\\nunregistered or registered trademarks.\\ni) Do be professional. If you have identified yourself as a Persistent Systems\\nemployee within a social website, you are connected to your colleagues, managers\\nand even Persistent Systems customers. You should ensure that content\\nassociated with you is consistent with your work at Persistent Systems.\\n7.5.8. Guest Wireless\\na) Guest wireless account is provided for at various Persistent facilities for accessing\\ninternet from Persistent premises for visitors, customers, auditors and others who\\nare not Persistent personnel.\\nb) Persistent personnel are not allowed to create guest user account for their own use\\nthrough Persistent laptops or mobile devices.\\n7.5.9. Privacy\\na) All users retain the right of privacy in their personal data if they are using the\\nPersistent Information resources in a manner consistent with this Policy. Likewise,\\x0cPSL-ISC-POL-016 Persistent Confidential Page | 13\\nusers are obligated to respect the right of privacy that other users have in their own\\ndata.\\nb) Users should note that the Persistent, in emergency situations, may also require\\nbackup and caching of various portions of Information Systems; logging of activity;\\nmonitoring of general usage; and other activities that are not directed against any\\nindividual user, for the purposes of emergency maintenance or restoring normal\\noperations of the Information Systems.\\n7.5.10.Malware and Online Crime Prevention\\nSocial media is commonly used by the online criminal community to deliver malware and\\ncarry out schemes designed to damage property or steal confidential information. To\\nminimize risk related to such threats you need to adhere to the following guidelines.\\na) Do not use the same passwords for social media that you use to access company\\ncomputing resources.\\nb) Do not click on the links or download software from social media pages as they\\nmay redirect you to malicious websites. Visit the necessary websites by typing the\\nURL.\\nc) If any content you find on any social media Web page looks suspicious in any way,\\nclose your browser and do not return to that page.\\nd) Configure social media accounts to encrypt sessions whenever possible.\\nFacebook, Twitter and others support encryption as an option. This is extremely\\nimportant for roaming users.\\n7.5.11.Speaking on behalf of Persistent\\na) Employees are not allowed to disclose information that are financial, operational\\nand legal in nature, as well as any information that pertains to customers. Desist\\nfrom talking about financial information, sales trends, strategies, forecasts, legal\\nissues, future promotional activities on social media.\\nb) Employees are not allowed to give out personal information about customers or\\nemployees, posting confidential or non-public information. Responding to an\\noffensive or negative post by a customer.\\nc) Do not induce in any business association with a customer or partner through\\nsocial media platforms.\\nd) Do ask for permission to publish or report conversations that are meant to be\\nprivate, confidential or internal to Persistent and when in doubt, always ask\\npermission from respective managers, Persistent InfoSec & Compliance team or\\nLegal department. Do use your best judgement based on the data that is being\\npublished.\\ne) Do not disclose or use Persistent confidential or proprietary information or that of\\nany other person or company on social media websites.\\nf) Do not cite or reference customers, partners or suppliers without their written\\napproval.\\x0cPSL-ISC-POL-016 Persistent Confidential Page | 14\\n8. Enforcement and Compliance\\nViolations of Persistent Acceptable Use Policy or any other security policy or regulation will be\\nsubject to investigation by InfoSec team and may lead to revocation of access to Persistent\\ninformation system and network privileges as well as other disciplinary actions as decided by\\nSIRT and appropriate external law enforcement authorities, as applicable, which may lead to\\ntermination.\\n9. Review\\nThis policy shall be reviewed at least annually, and updated per the new risks identified, the\\nmitigation controls required and the business requirement.\\n10. Exception Handling\\nSituations in which the requirements outlined in this Policy cannot be adhered to, must be\\ndocumented and formally approved by InfoSec. However, Operational implementation will be the\\nrespective Service Owner’s responsibility.\\n10.1. Due diligence for new exceptions\\na) Every type of exception handling will be reviewed & proposed by the Service\\nOwners & approved by InfoSec.\\nb) For each exception, a risk assessment must be performed. For identified risks\\npossible compensating controls need to be analyzed and identified.\\nc) Compensating controls must be implemented to mitigate the risks that exist.\\n10.2. Maintenance of Records\\na) Exceptions shall be provided to for a specific project and for a specific time. At the\\nend of the tenure or project or transfer of the employee to another project the\\nexception shall be revoked.\\nb) Operational records of all exceptions will be maintained as a service request by the\\nrespective Service Owners.\\nc) Every such service request must record\\ni. The nature of the exception\\nii. A reasonable explanation for why the policy exception is required\\niii. Any risks created by the policy exception\\niv. Evidence of approval by InfoSec for the type of service request\\nd) Upon expiry of exception duration, it is the responsibility of the service owner to\\ndeprovision such an exception. A record of such deprovisioning must be made\\navailable for audit or review.\\n10.3. Exception Review:\\na) Registered exceptions must be reviewed annually by the service owners to assess if\\ncompensating controls still mitigate the risk or if the motivations for accepting the risk\\nare still valid.\\x0cPSL-ISC-POL-016 Persistent Confidential Page | 15\\nb) In case of new controls being implemented by service owners which mitigate the\\nneed for exception, service owners will obtain sign-off from InfoSec before\\nimplementation of such controls.\\n11. Contact for Queries\\nPlease contact EIS-Governance in case of any additional queries.\\n12. Version Control\\nDate Ver Description Prepared By Reviewed By Authorized\\nBy\\n29 Mar\\n2007\\nInitial Draft of Acceptable use of\\npersistent assets policy\\nISM Group\\n10 Aug\\n2007\\n1.1 Reviewed the Acceptable\\nuse of Persistent Assets\\nPolicy\\nISM Group Head\\nInformation\\nSecurity\\n(Deepak\\nBhandarkar)\\nHead\\nInformation\\nSecurity\\n(Deepak\\nBhandarkar)\\n24 Aug\\n2007\\n1.2 Revised the acceptable use\\nof Persistent Asset policy\\nISM Group COO (Srikanth\\nSundararajan)\\nCOO (Srikanth\\nSundararajan)\\n4 Dec\\n2008\\n1.3 Renamed and Revised\\nAcceptable Use Policy\\nISM Group Srikanth\\nSundararajan\\nSrikanth\\nSundararajan\\n3 Dec\\n2010\\n1.4 Added Asset Owner and\\nSoftware compliance details\\nISM Group COO (Nitin\\nKulkarni)\\nCOO (Nitin\\nKulkarni)\\n30 Nov\\n2011\\n1.5 Modified as per the new\\ntemplate and reviewed the\\npolicy\\nInfoSec Mohit Bhishikar\\n(Head IT and\\nInfoSec)\\nMohit Bhishikar\\n(Head IT and\\nInfoSec)\\n1 Jan\\n2013\\n2 Updated as per the new\\ntemplate and reviewed the\\npolicy.\\nInfoSec team Nikhil Gadgil Mohit\\nBhishikar, Head\\n– Persistent IT\\n27 Dec\\n2013\\n2.1 Revised Inclusion of DLP\\nagent requirement on\\nlaptops\\nShweta Rana Mrunmayi\\nKulkarni\\nManager –\\nInfoSec team\\nMohit Bhishikar\\nHead –\\nPersistent IT\\n5 Mar\\n2015\\n3.0 Revised Inclusion of social\\nmedia policy\\nKumar\\nMadnendu\\nMitasha Pujari Mrunmayi\\nKulkarni\\nManager –\\nInfoSec team\\n18 Aug\\n2015\\n3.1 Inclusion of guest wireless\\nsecurity points\\nMitasha Pujari Sachin Belsize Mrunmayi\\nKulkarni\\nManager –\\nInfoSec team\\n1 Feb\\n2016\\n3.2 Formatting level changes Ashish Gargote Mitasha Pujari Mrunmayi\\nKulkarni\\nManager –\\nInfoSec team\\x0cPSL-ISC-POL-016 Persistent Confidential Page | 16\\n17 Feb\\n2016\\n3.3 Include asset recovery from\\nPSI exit cases\\nAnuja Kanhere-\\nPeople\\nManagement\\nNidhi Mulik –\\nPeople\\nManagement\\nMrunmayi\\nKulkarni\\nManager –\\nInfoSec team\\n15 Jun\\n2016\\n3.4 Reviewed: No Change Ashish Gargote Mrunmayi\\nKulkarni\\nManager –\\nInfoSec team\\nMrunmayi\\nKulkarni\\nManager –\\nInfoSec team\\n13 Sep\\n2016\\n3.5 Reviewed – Change in\\napproval hierarchy\\nMitasha Pujari Mrunmayi\\nKulkarni\\nMohit Bhishikar\\n- CIO\\n10 Oct\\n2017\\n4.0 Reviewed – Updated\\ndocument, removed\\nPersistent Assets, updated\\nStructure, updated Roles to\\nreflect change in org\\nstructure.\\nAmey Kantak\\n(Senior Team\\nLead EIS-\\nGovernance)\\nKantak\\nAvinash D\\n(Deputy\\nGeneral\\nManager)\\nVaibhav\\nShende (Asst.\\nManager –\\nLegal)\\nPratyush P\\n(Asst. Manager\\n– Business\\nDevelopment)\\nAmarjit Singh\\nHead – EIS\\n27 Dec\\n2018\\n5.0 Merged –Social Media\\nUsage Policy and Internet\\nUsage Policy\\nAdded - Guidance on Use of\\npersonal computing\\nendpoints to connect to\\nPersistent Information\\nsystems and cloud guidance\\nDocument ID updated from\\nPSL-IS-PL-024 to PSL-ISC-\\nPOL-016\\nAmey K\\n(Lead – EIS Risk\\n& Governance)\\nAvinash D\\n(Head- InfoSec\\n& Compliance\\nDU)\\nAmarjit Singh\\n(Head – EIS)\\n23 Dec\\n2019\\n6.0 Reviewed, Template\\nupdated\\nAmey K\\n(Manager – EIS\\nRisk &\\nGovernance)\\nAvinash D\\n(CISO)\\nAmarjit Singh\\n(CIO)\\n15 Apr\\n2019\\n6.1 Policy reviewed. Exception\\nHandling Section added.\\nAmey K\\n(Manager – EIS\\nRisk &\\nGovernance)\\nPranav Goyal\\n(Sr. InfoSec\\nAnalyst)\\nAvinash D\\n(CISO)\\nAmarjit Singh\\n(CIO)\\x0cPSL-ISC-POL-016 Persistent Confidential Page | 17\\n02 Jul\\n2020\\n6.2 Policy reviewed with\\nrespective service owners.\\nNo changes made.\\nRama M (Lead-\\nRisk &\\nGovernance),\\nKeyura\\nMujumdar\\n(Analyst – Risk\\n& Governance)\\nParesh V\\n(Engineering\\nLead), Girish\\nAtre (Lead-\\nPeople\\nServices),\\nMeena B\\n(Engineering\\nManager),\\nAkshay A\\n(Manager - IT\\nPortfolio),\\nAmey K\\n(Manager -\\nRisk &\\nGovernance)\\nAvinash D –\\n(CISO)\\n14 Apr\\n2021\\n6.3 Compliance requirements by\\nend users for corporate\\nassets added\\nGuidance barring use of\\npersonal assets for official\\nuse added\\nRama M (Asst\\nManager – Risk\\n& Governance)\\nAmey K\\n(Manager -\\nRisk &\\nGovernance)\\nAvinash D –\\n(CISO)\\n02 May\\n2022\\n6.4 Updated guidance for\\npersonal data handling for\\nemployees\\nMridul M\\n(InfoSec Analyst\\n– Risk and\\nGovernance)\\nRama M\\n(Associate\\nManager – Risk\\n& Governance)\\nAmey K (Sr.\\nManager - Risk\\n& Governance)\\nAvinash D –\\n(CISO)', 'content_type': 'text', 'score': None, 'meta': {'name': '24_Acceptable Use Policy.pdf'}, 'embedding': None, 'id': 'b1b83910cb4231a487cdb347f256d6e'}>"
      ]
     },
     "execution_count": 10,
     "metadata": {},
     "output_type": "execute_result"
    }
   ],
   "source": [
    "all_docs[0]"
   ]
  },
  {
   "cell_type": "code",
   "execution_count": 11,
   "id": "f5808709",
   "metadata": {},
   "outputs": [
    {
     "name": "stderr",
     "output_type": "stream",
     "text": [
      "  0%|                                                                                        | 0/2 [00:00<?, ?docs/s]WARNING - haystack.nodes.preprocessor.preprocessor -  One or more sentence found with word count higher than the split length.\n",
      "100%|████████████████████████████████████████████████████████████████████████████████| 2/2 [00:01<00:00,  1.04docs/s]"
     ]
    },
    {
     "name": "stdout",
     "output_type": "stream",
     "text": [
      "\n",
      " n_files_input: 2\n",
      " n_docs_output: 995\n"
     ]
    },
    {
     "name": "stderr",
     "output_type": "stream",
     "text": [
      "\n"
     ]
    }
   ],
   "source": [
    "preprocessor = PreProcessor(\n",
    "    clean_empty_lines=True,\n",
    "    clean_whitespace=True,\n",
    "    clean_header_footer=True, #false hota\n",
    "    split_by=\"word\",\n",
    "    split_length=100,\n",
    "    split_respect_sentence_boundary=True,\n",
    ")\n",
    "\n",
    "docs = preprocessor.process(all_docs)\n",
    "print(f\"\\n n_files_input: {len(all_docs)}\\n n_docs_output: {len(docs)}\")\n",
    "\n",
    "document_store.write_documents(docs)"
   ]
  },
  {
   "cell_type": "code",
   "execution_count": 12,
   "id": "63ba9a64",
   "metadata": {},
   "outputs": [
    {
     "data": {
      "text/plain": [
       "995"
      ]
     },
     "execution_count": 12,
     "metadata": {},
     "output_type": "execute_result"
    }
   ],
   "source": [
    "len(docs)"
   ]
  },
  {
   "cell_type": "code",
   "execution_count": 59,
   "id": "5fc16e9c",
   "metadata": {},
   "outputs": [],
   "source": [
    "from haystack.nodes import BM25Retriever,TfidfRetriever\n",
    "from haystack.pipelines import ExtractiveQAPipeline\n",
    "from haystack.nodes import FARMReader, TransformersReader\n",
    "from haystack.nodes import EmbeddingRetriever"
   ]
  },
  {
   "cell_type": "code",
   "execution_count": 17,
   "id": "a824991b",
   "metadata": {},
   "outputs": [
    {
     "name": "stderr",
     "output_type": "stream",
     "text": [
      "INFO - haystack.nodes.retriever.sparse -  Found 995 candidate paragraphs from 995 docs in DB\n",
      "INFO - haystack.modeling.utils -  Using devices: CPU\n",
      "INFO - haystack.modeling.utils -  Number of GPUs: 0\n",
      "INFO - haystack.modeling.model.language_model -  LOADING MODEL\n",
      "INFO - haystack.modeling.model.language_model -  =============\n",
      "INFO - haystack.modeling.model.language_model -  Could not find deepset/roberta-base-squad2 locally.\n",
      "INFO - haystack.modeling.model.language_model -  Looking on Transformers Model Hub (in local cache and online)...\n",
      "INFO - haystack.modeling.model.language_model -  Loaded deepset/roberta-base-squad2\n",
      "INFO - haystack.modeling.utils -  Using devices: CPU\n",
      "INFO - haystack.modeling.utils -  Number of GPUs: 0\n",
      "INFO - haystack.modeling.infer -  Got ya 7 parallel workers to do inference ...\n",
      "INFO - haystack.modeling.infer -   0     0     0     0     0     0     0  \n",
      "INFO - haystack.modeling.infer -  /w\\   /w\\   /w\\   /w\\   /w\\   /w\\   /w\\ \n",
      "INFO - haystack.modeling.infer -  /'\\   / \\   /'\\   /'\\   / \\   / \\   /'\\ \n"
     ]
    }
   ],
   "source": [
    "retriever = TfidfRetriever(document_store=document_store)\n",
    "# retriever = BM25Retriever(document_store=document_store) #worked with elasticsearch as document store on colab\n",
    "\n",
    "reader = FARMReader(model_name_or_path=\"deepset/roberta-base-squad2\")\n",
    "\n",
    "pipe = ExtractiveQAPipeline(reader, retriever)"
   ]
  },
  {
   "cell_type": "code",
   "execution_count": 56,
   "id": "ce4df46a",
   "metadata": {},
   "outputs": [
    {
     "name": "stderr",
     "output_type": "stream",
     "text": [
      "Inferencing Samples: 100%|███████████████████████████████████████████████████████| 1/1 [00:07<00:00,  7.30s/ Batches]\n",
      "Inferencing Samples: 100%|███████████████████████████████████████████████████████| 1/1 [00:00<00:00,  1.28 Batches/s]\n",
      "Inferencing Samples: 100%|███████████████████████████████████████████████████████| 1/1 [00:00<00:00,  2.07 Batches/s]\n",
      "Inferencing Samples: 100%|███████████████████████████████████████████████████████| 1/1 [00:00<00:00,  1.28 Batches/s]\n",
      "Inferencing Samples: 100%|███████████████████████████████████████████████████████| 1/1 [00:00<00:00,  1.67 Batches/s]\n",
      "Inferencing Samples: 100%|███████████████████████████████████████████████████████| 1/1 [00:00<00:00,  1.36 Batches/s]\n",
      "Inferencing Samples: 100%|███████████████████████████████████████████████████████| 1/1 [00:00<00:00,  1.46 Batches/s]\n",
      "Inferencing Samples: 100%|███████████████████████████████████████████████████████| 1/1 [00:00<00:00,  1.66 Batches/s]\n",
      "Inferencing Samples: 100%|███████████████████████████████████████████████████████| 1/1 [00:00<00:00,  1.14 Batches/s]\n",
      "Inferencing Samples: 100%|███████████████████████████████████████████████████████| 1/1 [00:00<00:00,  1.18 Batches/s]\n"
     ]
    }
   ],
   "source": [
    "# prediction = pipe.run(query=\"What is the frequency of project party?\", params={\"Retriever\": {\"top_k\": 10}, \"Reader\": {\"top_k\": 5}})\n",
    "\n",
    "prediction = pipe.run(query=\"What is the budget for project party?\", params={\"Retriever\": {\"top_k\": 10}, \"Reader\": {\"top_k\": 5}})"
   ]
  },
  {
   "cell_type": "code",
   "execution_count": 57,
   "id": "6a103a97",
   "metadata": {},
   "outputs": [
    {
     "name": "stdout",
     "output_type": "stream",
     "text": [
      "{'answers': [<Answer {'answer': 'Rs. 750/- per head per duration', 'type': 'extractive', 'score': 0.615727037191391, 'context': 'quency: Once in six months (i.e. 2 times in year)\\n• Amount: Rs. 750/- per head per duration\\nThe Project Party will be held for a Project/Function as a', 'offsets_in_document': [{'start': 522, 'end': 553}], 'offsets_in_context': [{'start': 60, 'end': 91}], 'document_id': '6d7afbcd7156492026b208c99c427021', 'meta': {'name': 'Employee Manual_India.pdf', '_split_id': 236}}>,\n",
      "             <Answer {'answer': 'higher cost', 'type': 'extractive', 'score': 0.2474047765135765, 'context': 'ny. • If the handset is required for project purpose which would need higher cost that\\nspecified above, an employee must raise HSPS using the appropri', 'offsets_in_document': [{'start': 154, 'end': 165}], 'offsets_in_context': [{'start': 70, 'end': 81}], 'document_id': '58392e11d63c348e31c300dcccc25425', 'meta': {'name': 'Employee Manual_India.pdf', '_split_id': 204}}>,\n",
      "             <Answer {'answer': 'Q1 unused budget', 'type': 'extractive', 'score': 0.20571652054786682, 'context': 'Ex: Q1 unused budget will be added to Q2 budget. But\\nunused budget at the end of Q2 will lapse. • E-Certificate is released to the awardee after the a', 'offsets_in_document': [{'start': 4, 'end': 20}], 'offsets_in_context': [{'start': 4, 'end': 20}], 'document_id': '7c4a04a89e3f79ccc238324b6ce49b35', 'meta': {'name': 'Employee Manual_India.pdf', '_split_id': 255}}>,\n",
      "             <Answer {'answer': '3. The budget allocated is for the specified duration', 'type': 'extractive', 'score': 0.13063855469226837, 'context': 'U or project are eligible for the project party. 3. The budget allocated is for the specified duration. the unused budget for H1 (Apr to\\nSept) will be', 'offsets_in_document': [{'start': 83, 'end': 136}], 'offsets_in_context': [{'start': 49, 'end': 102}], 'document_id': '1e4bbacac41526b4eb290045303696e5', 'meta': {'name': 'Employee Manual_India.pdf', '_split_id': 238}}>,\n",
      "             <Answer {'answer': 'allocated amount', 'type': 'extractive', 'score': 0.108272984623909, 'context': 're that every member of your team has attended the party, since the\\nallocated amount of the project party will lapse for all those who could not atten', 'offsets_in_document': [{'start': 79, 'end': 95}], 'offsets_in_context': [{'start': 67, 'end': 83}], 'document_id': '689949e17730e0b216890bc3632668a7', 'meta': {'name': 'Employee Manual_India.pdf', '_split_id': 241}}>],\n",
      " 'documents': [<Document: {'content': 'Employees who are allocated to a BU or project are eligible for the project party. 3. The budget allocated is for the specified duration. the unused budget for H1 (Apr to\\nSept) will be added to the H2 (Oct to Mar) budget amount. However, unused budget at\\nthe end of the financial year will lapse. 4. If two projects, go together for a party they should raise two separate requests on the\\nProject Party System. 5. The amount for the project party should be claimed as soon as the event gets over. 6.', 'content_type': 'text', 'score': None, 'meta': {'name': 'Employee Manual_India.pdf', '_split_id': 238}, 'embedding': None, 'id': '1e4bbacac41526b4eb290045303696e5'}>,\n",
      "               <Document: {'content': 'Check & ensure that every member of your team has attended the party, since the\\nallocated amount of the project party will lapse for all those who could not attend\\nthe party. 3. Ensure that the necessary action (approval) is taken on the reimbursement claim as\\nsoon as possible. Procedure\\n1. Once the project party is held, any member who is allocated to the project can apply\\nfor the reimbursement on behalf of the entire team. 2. The reimbursement claim will be done through the Project Party System. Visit\\nhttps://eisweb.persistent.co.in/eis/Miscellaneous/default.aspx to access online Project\\nParty System. 3.', 'content_type': 'text', 'score': None, 'meta': {'name': 'Employee Manual_India.pdf', '_split_id': 241}, 'embedding': None, 'id': '689949e17730e0b216890bc3632668a7'}>,\n",
      "               <Document: {'content': 'Once s/he avails the funds, the\\nsystem will deactivate his/her record from other project/s. Guidelines for the Requestor\\n1. Ensure that your entire Project team goes for the party together. 2. Ensure that the application for reimbursement is on behalf of the whole team. 3. The reimbursement claim can be entered in the system only after the party is held. 102\\nGuidelines for the Approver\\n1. Ensure that all the members of the project have attended the party before approving\\nthe request. 2.', 'content_type': 'text', 'score': None, 'meta': {'name': 'Employee Manual_India.pdf', '_split_id': 240}, 'embedding': None, 'id': 'f60f35e14d5f8e6444e7a57eb71e77'}>,\n",
      "               <Document: {'content': '• Long Term Visit: Any client/guest visit which is planned for more than one week\\nGuidelines\\n1. Any Client or guest visit should be intimated at least one week in advance to the\\nhospitality team ( hospitality@persistent.com )\\n388\\n2. The host Project / Delivery team will identify one Point Of Contact (POC) for such\\nguest visits for better co-ordination. 3. POC should fill in necessary ‘Hospitality Service Form’ - Link along with approval on\\nbudget estimation from respective authority (DP/DH ) & share it with Hospitality team. It\\nis to be noted that expenditure other than what is approved and/or outside the\\napproved budget will not be permissible.', 'content_type': 'text', 'score': None, 'meta': {'name': 'Employee Manual_India.pdf', '_split_id': 931}, 'embedding': None, 'id': 'bb7f83fd1249b3addac870df7a6ab09f'}>,\n",
      "               <Document: {'content': 'Despite this, if this is the case, only if approved by the DH. In the meantime,\\nyour overall eligibility will be shown as ineligible\\n3. What is the process of reimbursing the external certifications for certifications\\nrequired for promotion? You can refer to the Global Certification Policy for more details\\n4. What if I haven’t completed the recommended certifications? For those in grades 5.3, 7.1 and 7.3, this will directly have an impact on your overall\\npromotion eligibility. Your overall eligibility is dependent of Tenure, Credit Points and\\nCertifications.', 'content_type': 'text', 'score': None, 'meta': {'name': 'Employee Manual_India.pdf', '_split_id': 563}, 'embedding': None, 'id': '1401e8c7b4639ae3a4ffd54eb0780375'}>,\n",
      "               <Document: {'content': 'Option 2 : Co-Pay Model – As per this model, based on the approval, budget and\\nconsultation with the Engineering Partner/ AVP & above Engineering Leaders (Delivery\\nUnit Partners & Heads), employees who are undergoing certifications/trainings that are\\nexpected as per the grade movement , can opt for the 70 : 30 Model, where, the\\nemployee pays 30% of the cost of the certification. For any re-attempts, the employee\\nwill have to bear the additional cost. The corresponding budget needs to be planned &\\napproved by BU.', 'content_type': 'text', 'score': None, 'meta': {'name': 'Employee Manual_India.pdf', '_split_id': 789}, 'embedding': None, 'id': 'f0d0a60da375dd63e2396620dd7cd3f9'}>,\n",
      "               <Document: {'content': 'The subject matter of the conference must relate directly to the employee’s role played\\nin the organisation or provide beneficial information to be shared in the employee’s\\nproject/department. 2. An approval from the concerned Delivery Partner/General Manager/Function Head is\\nrequired to raise the request to attend the conference/meeting within India. The\\nLearning and Development Head shall then approve the request based on the Budget. 3.', 'content_type': 'text', 'score': None, 'meta': {'name': 'Employee Manual_India.pdf', '_split_id': 807}, 'embedding': None, 'id': '5982a21f14192a77d36781a8da7c199c'}>,\n",
      "               <Document: {'content': 'Ex: Q1 unused budget will be added to Q2 budget. But\\nunused budget at the end of Q2 will lapse. • E-Certificate is released to the awardee after the award is announced in the system. 111\\n• The award is accompanied by a financial component which could be redeemed either\\nby online mode or through offline mode. • Online award category\\n• Consists of issuing of Zaggle voucher which can be redeemed against variety\\nof Online options\\n• Offline award category\\n• Allows managers to permit/provide for customized and personalized gifts to the\\nawardee. • Suggested methods would be procuring options such as dinning, mementos,\\nentertainment, etc.', 'content_type': 'text', 'score': None, 'meta': {'name': 'Employee Manual_India.pdf', '_split_id': 255}, 'embedding': None, 'id': '7c4a04a89e3f79ccc238324b6ce49b35'}>,\n",
      "               <Document: {'content': 'Handset will continue to be with the employee and will not be recovered by the\\nCompany. • If the handset is required for project purpose which would need higher cost that\\nspecified above, an employee must raise HSPS using the appropriate budget head. In\\nthis case the handset will be Company’s property and will be required to be returned to\\nthe Company on employee’s transfer out of the project/ to overseas location or exit\\nfrom the Company immediately. In case of default, full cost of the handset will be\\nrecovered from the employee.', 'content_type': 'text', 'score': None, 'meta': {'name': 'Employee Manual_India.pdf', '_split_id': 204}, 'embedding': None, 'id': '58392e11d63c348e31c300dcccc25425'}>,\n",
      "               <Document: {'content': 'Such parties will be held once in\\nsix months (Apr-Sept, Oct-Mar). This policy applies to all employees working in India;\\nhowever, it excludes employees who are in the talent pool. It is expected that such\\nparties are held outside normal working hours. This policy applies to all PSL regular employees, trainees, interns, Consultant and\\nContract Consultant working in India. It is expected that such parties are held outside normal working hours. 2. Budget:\\n• Frequency: Once in six months (i.e. 2 times in year)\\n• Amount: Rs. 750/- per head per duration\\nThe Project Party will be held for a Project/Function as a whole.', 'content_type': 'text', 'score': None, 'meta': {'name': 'Employee Manual_India.pdf', '_split_id': 236}, 'embedding': None, 'id': '6d7afbcd7156492026b208c99c427021'}>],\n",
      " 'no_ans_gap': 5.3394341468811035,\n",
      " 'node_id': 'Reader',\n",
      " 'params': {'Reader': {'top_k': 5}, 'Retriever': {'top_k': 10}},\n",
      " 'query': 'What is the budget for project party?',\n",
      " 'root_node': 'Query'}\n"
     ]
    }
   ],
   "source": [
    "from pprint import pprint\n",
    "# print(len(prediction))\n",
    "pprint(prediction)\n",
    "\n",
    "\n",
    "# {'answer': 'Once in six months', \n",
    "#  'type': 'extractive',\n",
    "#  'score': 0.5211937427520752, \n",
    "#  'context': 'es are held outside normal working hours. 2. Budget:\\n• Frequency: Once in six months (i.e. 2 times in year)\\n• Amount: Rs. 750/- per head per duration\\n',\n",
    "#  'offsets_in_document': [{'start': 470, 'end': 488}],\n",
    "#  'offsets_in_context': [{'start': 66, 'end': 84}],\n",
    "#  'document_id': '6d7afbcd7156492026b208c99c427021', \n",
    "#  'meta': {'name': 'Employee Manual_India.pdf', '_split_id': 236}\n",
    "# }"
   ]
  },
  {
   "cell_type": "code",
   "execution_count": 58,
   "id": "2d3cc5ef",
   "metadata": {},
   "outputs": [
    {
     "name": "stdout",
     "output_type": "stream",
     "text": [
      "\n",
      "Query: What is the budget for project party?\n",
      "Answers:\n",
      "[   {   'answer': 'Rs. 750/- per head per duration',\n",
      "        'context': 'quency: Once in six months (i.e. 2 times in year)\\n'\n",
      "                   '• Amount: Rs. 750/- per head per duration\\n'\n",
      "                   'The Project Party will be held for a Project/Function as a',\n",
      "        'score': 0.615727037191391},\n",
      "    {   'answer': 'higher cost',\n",
      "        'context': 'ny. • If the handset is required for project purpose which '\n",
      "                   'would need higher cost that\\n'\n",
      "                   'specified above, an employee must raise HSPS using the '\n",
      "                   'appropri',\n",
      "        'score': 0.2474047765135765},\n",
      "    {   'answer': 'Q1 unused budget',\n",
      "        'context': 'Ex: Q1 unused budget will be added to Q2 budget. But\\n'\n",
      "                   'unused budget at the end of Q2 will lapse. • E-Certificate '\n",
      "                   'is released to the awardee after the a',\n",
      "        'score': 0.20571652054786682},\n",
      "    {   'answer': '3. The budget allocated is for the specified duration',\n",
      "        'context': 'U or project are eligible for the project party. 3. The '\n",
      "                   'budget allocated is for the specified duration. the unused '\n",
      "                   'budget for H1 (Apr to\\n'\n",
      "                   'Sept) will be',\n",
      "        'score': 0.13063855469226837},\n",
      "    {   'answer': 'allocated amount',\n",
      "        'context': 're that every member of your team has attended the party, '\n",
      "                   'since the\\n'\n",
      "                   'allocated amount of the project party will lapse for all '\n",
      "                   'those who could not atten',\n",
      "        'score': 0.108272984623909}]\n"
     ]
    }
   ],
   "source": [
    "print_answers(prediction, details=\"medium\")"
   ]
  },
  {
   "cell_type": "code",
   "execution_count": 60,
   "id": "6fbeebd9",
   "metadata": {},
   "outputs": [],
   "source": [
    "# prediction"
   ]
  },
  {
   "cell_type": "code",
   "execution_count": 61,
   "id": "a4dc934c",
   "metadata": {},
   "outputs": [
    {
     "name": "stderr",
     "output_type": "stream",
     "text": [
      "INFO - haystack.modeling.utils -  Using devices: CPU\n",
      "INFO - haystack.modeling.utils -  Number of GPUs: 0\n",
      "INFO - haystack.nodes.retriever.dense -  Init retriever using embeddings of model sentence-transformers/multi-qa-mpnet-base-dot-v1\n"
     ]
    },
    {
     "data": {
      "application/vnd.jupyter.widget-view+json": {
       "model_id": "489a4657f1f94246a647cde23b6f3cd1",
       "version_major": 2,
       "version_minor": 0
      },
      "text/plain": [
       "Downloading:   0%|          | 0.00/737 [00:00<?, ?B/s]"
      ]
     },
     "metadata": {},
     "output_type": "display_data"
    },
    {
     "data": {
      "application/vnd.jupyter.widget-view+json": {
       "model_id": "b66d14be945342a5b64835c390e422bb",
       "version_major": 2,
       "version_minor": 0
      },
      "text/plain": [
       "Downloading:   0%|          | 0.00/190 [00:00<?, ?B/s]"
      ]
     },
     "metadata": {},
     "output_type": "display_data"
    },
    {
     "data": {
      "application/vnd.jupyter.widget-view+json": {
       "model_id": "7187fb8ec50147aea0f4c4be78c410ac",
       "version_major": 2,
       "version_minor": 0
      },
      "text/plain": [
       "Downloading:   0%|          | 0.00/8.65k [00:00<?, ?B/s]"
      ]
     },
     "metadata": {},
     "output_type": "display_data"
    },
    {
     "data": {
      "application/vnd.jupyter.widget-view+json": {
       "model_id": "87afc8b29a3442c78956e16b5450a50b",
       "version_major": 2,
       "version_minor": 0
      },
      "text/plain": [
       "Downloading:   0%|          | 0.00/571 [00:00<?, ?B/s]"
      ]
     },
     "metadata": {},
     "output_type": "display_data"
    },
    {
     "data": {
      "application/vnd.jupyter.widget-view+json": {
       "model_id": "89b76b3ec04644fe9f33fedc22518f84",
       "version_major": 2,
       "version_minor": 0
      },
      "text/plain": [
       "Downloading:   0%|          | 0.00/116 [00:00<?, ?B/s]"
      ]
     },
     "metadata": {},
     "output_type": "display_data"
    },
    {
     "data": {
      "application/vnd.jupyter.widget-view+json": {
       "model_id": "7f8e7ed0d7204cc88ce6e1f5a944a2ee",
       "version_major": 2,
       "version_minor": 0
      },
      "text/plain": [
       "Downloading:   0%|          | 0.00/25.5k [00:00<?, ?B/s]"
      ]
     },
     "metadata": {},
     "output_type": "display_data"
    },
    {
     "data": {
      "application/vnd.jupyter.widget-view+json": {
       "model_id": "101a2f27a09940bb833d87a9800ebe7e",
       "version_major": 2,
       "version_minor": 0
      },
      "text/plain": [
       "Downloading:   0%|          | 0.00/438M [00:00<?, ?B/s]"
      ]
     },
     "metadata": {},
     "output_type": "display_data"
    },
    {
     "data": {
      "application/vnd.jupyter.widget-view+json": {
       "model_id": "992fab350f71476cb14c11b2a21b222a",
       "version_major": 2,
       "version_minor": 0
      },
      "text/plain": [
       "Downloading:   0%|          | 0.00/53.0 [00:00<?, ?B/s]"
      ]
     },
     "metadata": {},
     "output_type": "display_data"
    },
    {
     "data": {
      "application/vnd.jupyter.widget-view+json": {
       "model_id": "945cb922462d4fdb86fa8bbb8dd75a29",
       "version_major": 2,
       "version_minor": 0
      },
      "text/plain": [
       "Downloading:   0%|          | 0.00/239 [00:00<?, ?B/s]"
      ]
     },
     "metadata": {},
     "output_type": "display_data"
    },
    {
     "data": {
      "application/vnd.jupyter.widget-view+json": {
       "model_id": "8c909a019dd5417e8dfbbac3e1b96f8e",
       "version_major": 2,
       "version_minor": 0
      },
      "text/plain": [
       "Downloading:   0%|          | 0.00/466k [00:00<?, ?B/s]"
      ]
     },
     "metadata": {},
     "output_type": "display_data"
    },
    {
     "data": {
      "application/vnd.jupyter.widget-view+json": {
       "model_id": "2efb3e8038eb4ad88273e444c014bacd",
       "version_major": 2,
       "version_minor": 0
      },
      "text/plain": [
       "Downloading:   0%|          | 0.00/363 [00:00<?, ?B/s]"
      ]
     },
     "metadata": {},
     "output_type": "display_data"
    },
    {
     "data": {
      "application/vnd.jupyter.widget-view+json": {
       "model_id": "499d2d31c5b3471799609a91ca098d28",
       "version_major": 2,
       "version_minor": 0
      },
      "text/plain": [
       "Downloading:   0%|          | 0.00/13.9k [00:00<?, ?B/s]"
      ]
     },
     "metadata": {},
     "output_type": "display_data"
    },
    {
     "data": {
      "application/vnd.jupyter.widget-view+json": {
       "model_id": "9e0da206ef34480dbf9c9ad571c290b3",
       "version_major": 2,
       "version_minor": 0
      },
      "text/plain": [
       "Downloading:   0%|          | 0.00/232k [00:00<?, ?B/s]"
      ]
     },
     "metadata": {},
     "output_type": "display_data"
    },
    {
     "data": {
      "application/vnd.jupyter.widget-view+json": {
       "model_id": "4c3dc7fa26014da3b18e223c140ebe92",
       "version_major": 2,
       "version_minor": 0
      },
      "text/plain": [
       "Downloading:   0%|          | 0.00/229 [00:00<?, ?B/s]"
      ]
     },
     "metadata": {},
     "output_type": "display_data"
    },
    {
     "name": "stderr",
     "output_type": "stream",
     "text": [
      "WARNING - haystack.nodes.retriever._embedding_encoder -  You are using a Sentence Transformer with the dot_product function. We recommend using cosine instead. This can be set when initializing the DocumentStore\n",
      "INFO - haystack.document_stores.memory -  Updating embeddings for 995 docs ...\n",
      "Updating Embedding:   0%|                                                                 | 0/995 [00:00<?, ? docs/s]"
     ]
    },
    {
     "data": {
      "application/vnd.jupyter.widget-view+json": {
       "model_id": "0cec9bec5c164f209778005e5f7abb85",
       "version_major": 2,
       "version_minor": 0
      },
      "text/plain": [
       "Batches:   0%|          | 0/32 [00:00<?, ?it/s]"
      ]
     },
     "metadata": {},
     "output_type": "display_data"
    },
    {
     "name": "stderr",
     "output_type": "stream",
     "text": [
      "Documents Processed: 10000 docs [06:28, 25.76 docs/s]                                                                \n",
      "INFO - haystack.modeling.utils -  Using devices: CPU\n",
      "INFO - haystack.modeling.utils -  Number of GPUs: 0\n",
      "INFO - haystack.modeling.model.language_model -  LOADING MODEL\n",
      "INFO - haystack.modeling.model.language_model -  =============\n",
      "INFO - haystack.modeling.model.language_model -  Could not find deepset/roberta-base-squad2 locally.\n",
      "INFO - haystack.modeling.model.language_model -  Looking on Transformers Model Hub (in local cache and online)...\n",
      "INFO - haystack.modeling.model.language_model -  Loaded deepset/roberta-base-squad2\n",
      "INFO - haystack.modeling.utils -  Using devices: CPU\n",
      "INFO - haystack.modeling.utils -  Number of GPUs: 0\n",
      "INFO - haystack.modeling.infer -  Got ya 7 parallel workers to do inference ...\n",
      "INFO - haystack.modeling.infer -   0     0     0     0     0     0     0  \n",
      "INFO - haystack.modeling.infer -  /w\\   /w\\   /w\\   /w\\   /w\\   /w\\   /w\\ \n",
      "INFO - haystack.modeling.infer -  /'\\   / \\   /'\\   /'\\   / \\   / \\   /'\\ \n"
     ]
    },
    {
     "data": {
      "application/vnd.jupyter.widget-view+json": {
       "model_id": "89f5dbcb577a460ea8c725dac213b8dd",
       "version_major": 2,
       "version_minor": 0
      },
      "text/plain": [
       "Batches:   0%|          | 0/1 [00:00<?, ?it/s]"
      ]
     },
     "metadata": {},
     "output_type": "display_data"
    },
    {
     "name": "stderr",
     "output_type": "stream",
     "text": [
      "Inferencing Samples: 100%|███████████████████████████████████████████████████████| 1/1 [00:04<00:00,  4.11s/ Batches]\n",
      "Inferencing Samples: 100%|███████████████████████████████████████████████████████| 1/1 [00:00<00:00,  1.62 Batches/s]\n",
      "Inferencing Samples: 100%|███████████████████████████████████████████████████████| 1/1 [00:01<00:00,  1.52s/ Batches]\n",
      "Inferencing Samples: 100%|███████████████████████████████████████████████████████| 1/1 [00:00<00:00,  1.82 Batches/s]\n",
      "Inferencing Samples: 100%|███████████████████████████████████████████████████████| 1/1 [00:00<00:00,  1.79 Batches/s]\n",
      "Inferencing Samples: 100%|███████████████████████████████████████████████████████| 1/1 [00:01<00:00,  1.10s/ Batches]\n",
      "Inferencing Samples: 100%|███████████████████████████████████████████████████████| 1/1 [00:00<00:00,  1.31 Batches/s]\n",
      "Inferencing Samples: 100%|███████████████████████████████████████████████████████| 1/1 [00:00<00:00,  2.06 Batches/s]\n",
      "Inferencing Samples: 100%|███████████████████████████████████████████████████████| 1/1 [00:00<00:00,  2.01 Batches/s]\n",
      "Inferencing Samples: 100%|███████████████████████████████████████████████████████| 1/1 [00:00<00:00,  2.27 Batches/s]\n"
     ]
    },
    {
     "name": "stdout",
     "output_type": "stream",
     "text": [
      "{'answers': [<Answer {'answer': 'Rs. 750/- per head per duration', 'type': 'extractive', 'score': 0.615727037191391, 'context': 'quency: Once in six months (i.e. 2 times in year)\\n• Amount: Rs. 750/- per head per duration\\nThe Project Party will be held for a Project/Function as a', 'offsets_in_document': [{'start': 522, 'end': 553}], 'offsets_in_context': [{'start': 60, 'end': 91}], 'document_id': '6d7afbcd7156492026b208c99c427021', 'meta': {'name': 'Employee Manual_India.pdf', '_split_id': 236}}>,\n",
      "             <Answer {'answer': '100', 'type': 'extractive', 'score': 0.15544985234737396, 'context': 'reimbursement of the health insurance plan will be borne by\\nthe employee. 100\\nProject Party\\nObjective To promote team spirit within project/dept./team', 'offsets_in_document': [{'start': 102, 'end': 105}], 'offsets_in_context': [{'start': 74, 'end': 77}], 'document_id': '73c61acae1650d457362e110cd88400c', 'meta': {'name': 'Employee Manual_India.pdf', '_split_id': 235}}>,\n",
      "             <Answer {'answer': '3. The budget allocated is for the specified duration', 'type': 'extractive', 'score': 0.13063855469226837, 'context': 'U or project are eligible for the project party. 3. The budget allocated is for the specified duration. the unused budget for H1 (Apr to\\nSept) will be', 'offsets_in_document': [{'start': 83, 'end': 136}], 'offsets_in_context': [{'start': 49, 'end': 102}], 'document_id': '1e4bbacac41526b4eb290045303696e5', 'meta': {'name': 'Employee Manual_India.pdf', '_split_id': 238}}>,\n",
      "             <Answer {'answer': 'allocated amount', 'type': 'extractive', 'score': 0.108272984623909, 'context': 're that every member of your team has attended the party, since the\\nallocated amount of the project party will lapse for all those who could not atten', 'offsets_in_document': [{'start': 79, 'end': 95}], 'offsets_in_context': [{'start': 67, 'end': 83}], 'document_id': '689949e17730e0b216890bc3632668a7', 'meta': {'name': 'Employee Manual_India.pdf', '_split_id': 241}}>,\n",
      "             <Answer {'answer': 'Availability of Learning and Development Budget', 'type': 'extractive', 'score': 0.06758108548820019, 'context': 'lient and Company confidentiality\\n• ISMS approval\\n• Availability of Learning and Development Budget\\nProcedure\\n1. The employee is required to send the ', 'offsets_in_document': [{'start': 356, 'end': 403}], 'offsets_in_context': [{'start': 52, 'end': 99}], 'document_id': '10c10fffb89b4c28b8475f918767fea8', 'meta': {'name': 'Employee Manual_India.pdf', '_split_id': 808}}>],\n",
      " 'documents': [<Document: {'content': 'Such parties will be held once in\\nsix months (Apr-Sept, Oct-Mar). This policy applies to all employees working in India;\\nhowever, it excludes employees who are in the talent pool. It is expected that such\\nparties are held outside normal working hours. This policy applies to all PSL regular employees, trainees, interns, Consultant and\\nContract Consultant working in India. It is expected that such parties are held outside normal working hours. 2. Budget:\\n• Frequency: Once in six months (i.e. 2 times in year)\\n• Amount: Rs. 750/- per head per duration\\nThe Project Party will be held for a Project/Function as a whole.', 'content_type': 'text', 'score': 0.5597508193861154, 'meta': {'name': 'Employee Manual_India.pdf', '_split_id': 236}, 'embedding': None, 'id': '6d7afbcd7156492026b208c99c427021'}>,\n",
      "               <Document: {'content': 'Employees who are allocated to a BU or project are eligible for the project party. 3. The budget allocated is for the specified duration. the unused budget for H1 (Apr to\\nSept) will be added to the H2 (Oct to Mar) budget amount. However, unused budget at\\nthe end of the financial year will lapse. 4. If two projects, go together for a party they should raise two separate requests on the\\nProject Party System. 5. The amount for the project party should be claimed as soon as the event gets over. 6.', 'content_type': 'text', 'score': 0.5594816875392682, 'meta': {'name': 'Employee Manual_India.pdf', '_split_id': 238}, 'embedding': None, 'id': '1e4bbacac41526b4eb290045303696e5'}>,\n",
      "               <Document: {'content': 'Check & ensure that every member of your team has attended the party, since the\\nallocated amount of the project party will lapse for all those who could not attend\\nthe party. 3. Ensure that the necessary action (approval) is taken on the reimbursement claim as\\nsoon as possible. Procedure\\n1. Once the project party is held, any member who is allocated to the project can apply\\nfor the reimbursement on behalf of the entire team. 2. The reimbursement claim will be done through the Project Party System. Visit\\nhttps://eisweb.persistent.co.in/eis/Miscellaneous/default.aspx to access online Project\\nParty System. 3.', 'content_type': 'text', 'score': 0.5550551259080584, 'meta': {'name': 'Employee Manual_India.pdf', '_split_id': 241}, 'embedding': None, 'id': '689949e17730e0b216890bc3632668a7'}>,\n",
      "               <Document: {'content': '• All incurred taxes due to reimbursement of the health insurance plan will be borne by\\nthe employee. 100\\nProject Party\\nObjective To promote team spirit within project/dept./team. Document ID PPM_BEN_POL_PP_IND_1.05\\nRelease Date June 16th, 2010 Revised on May 5th, 2011, Revised on June 7th, 2013,\\nRevised on December 16th, 2016, Revised on June 21st, 2022\\nEffective Date June 16th, 2010 Revised on May 5th, 2011, Revised on June 7th, 2013,\\nRevised on December 16th, 2016, Revised on April 01st, 2022\\nApproved By Chief People Officer (CPO)\\nOwned By People & Org Development (P&OD)\\nPolicy\\n1. Purpose: Project party is an occasion to encourage employee interaction for\\npromoting team spirit within Projects/Functions.', 'content_type': 'text', 'score': 0.5542509089596886, 'meta': {'name': 'Employee Manual_India.pdf', '_split_id': 235}, 'embedding': None, 'id': '73c61acae1650d457362e110cd88400c'}>,\n",
      "               <Document: {'content': 'For the purpose of this\\npolicy, Project/Function will be considered as reflected on Persistent Intranet i.e. “Pi”. 3. Activities: The allocated budget can be utilized for following team activities like\\n• Group Lunch/Dinner\\n• Group Picnic\\n101\\nExpenses incurred for activities other than those described above will not be reimbursed. Given below is an illustrative list of included and excluded items. Included items—Expenses incurred during lunch/dinner/group picnic such as food,\\naccommodation, transportation, playing team games, party games, etc. Excluded items—Expenses incurred on movie, liquor, cigarettes, t-shirts, mementos, etc. Guidelines\\n1. Definition of Project: As reflected on Pi. 2.', 'content_type': 'text', 'score': 0.5532024466075307, 'meta': {'name': 'Employee Manual_India.pdf', '_split_id': 237}, 'embedding': None, 'id': 'c7f47bd4c695ec17cef618e72250aee'}>,\n",
      "               <Document: {'content': 'Once s/he avails the funds, the\\nsystem will deactivate his/her record from other project/s. Guidelines for the Requestor\\n1. Ensure that your entire Project team goes for the party together. 2. Ensure that the application for reimbursement is on behalf of the whole team. 3. The reimbursement claim can be entered in the system only after the party is held. 102\\nGuidelines for the Approver\\n1. Ensure that all the members of the project have attended the party before approving\\nthe request. 2.', 'content_type': 'text', 'score': 0.550441704693473, 'meta': {'name': 'Employee Manual_India.pdf', '_split_id': 240}, 'embedding': None, 'id': 'f60f35e14d5f8e6444e7a57eb71e77'}>,\n",
      "               <Document: {'content': 'The same list will also have to be shared with the respective admin team at your\\nlocation for making necessary lunch/dinner arrangements. 5. The accounting period for this purpose will be from 21st\\nof the previous month to 20th\\nof\\nthe present month. 6. The amount will be paid to the concerned employee along with the monthly Salary. In case an employee resigns or leaves the project in between, the payment will be\\ncalculated on pro rata basis and will be paid along with the full and final settlement.', 'content_type': 'text', 'score': 0.5439986171775509, 'meta': {'name': 'Employee Manual_India.pdf', '_split_id': 483}, 'embedding': None, 'id': '2a5bf61ef8d044e8d063a40f42eb9a86'}>,\n",
      "               <Document: {'content': 'Expenses incurred on liquor, cigarettes/other prohibited substances as per prohibited\\nsubstance policy, etc. will not be considered acceptable. Procedure\\n• Individual may recommend an award to a colleague/subordinate for a special\\ncontribution as per guidelines suggested in this policy. The award may be\\nrecommended through PI – Pi > All Apps > R&R. • The award needs to be raised for a particular quarter before the last day of the quarter. • The award would require approval from the DP of requestor’s DU. The approval\\nwindow for a particular quarter is open till the 8th\\nday of the following month of the\\nsubsequent quarter. eg.', 'content_type': 'text', 'score': 0.5434077822636594, 'meta': {'name': 'Employee Manual_India.pdf', '_split_id': 253}, 'embedding': None, 'id': '7472f06c96029ae957e246eb4dbe30a0'}>,\n",
      "               <Document: {'content': 'The approval for sponsoring paper presentation (Paper Submission Fee and/or\\nConference Fee) will be based on the following:\\n• Reputation of the Institute/University/Organisation/Event Organizers\\n• Utility and benefits of this event for our business goals\\n• Technical content and merit of the case\\n335\\n• Client and Company confidentiality\\n• ISMS approval\\n• Availability of Learning and Development Budget\\nProcedure\\n1. The employee is required to send the Conference/Seminar/Training registration\\nrequest form to Persistent_University@persistent.com along with Delivery\\nPartner/Business Head/Function head‘s approval mail. d. For Conference/Seminar/Training fees < Rs. 10,000 or $150 – From Delivery\\nPartner (Grade 9.x and above)\\ne. For Conference/Seminar/Training fees > Rs.', 'content_type': 'text', 'score': 0.5422447701738718, 'meta': {'name': 'Employee Manual_India.pdf', '_split_id': 808}, 'embedding': None, 'id': '10c10fffb89b4c28b8475f918767fea8'}>,\n",
      "               <Document: {'content': 'Any expenses incurred over and above the budget will not be reimbursed. 7. In case of any queries, raise Remedy request to Ask HR. 103\\nThe Project Party System workflow\\n104\\nRelocation Allowance\\nObjective Relocation allowance for prospective employees joining Persistent within\\nIndia. Document ID PPM_BEN_POL_RA_IND_1.03\\nRelease Date June 20th, 2012 Revised on Nov 26th, 2015, Revised September 29th,\\n2017\\nEffective Date June 20th, 2012, Revised on June 20th, 2012, Revised on Nov 26th, 2015,\\nEffective October 1st, 2017\\nApproved By Chief People Officer (CPO)\\nOwned By People & Org Development (P&OD)\\nPolicy\\n1. Persistent enables one-time reimbursement of relocation expenses for external\\ncandidates joining Persistent from locations other than their joining location within\\nIndia.', 'content_type': 'text', 'score': 0.5420216136788594, 'meta': {'name': 'Employee Manual_India.pdf', '_split_id': 243}, 'embedding': None, 'id': 'ba2a350cab70b0d566b41422cfdc91c5'}>],\n",
      " 'no_ans_gap': 5.3394341468811035,\n",
      " 'node_id': 'Reader',\n",
      " 'params': {'Reader': {'top_k': 5}, 'Retriever': {'top_k': 10}},\n",
      " 'query': 'What is the budget for project party?',\n",
      " 'root_node': 'Query'}\n"
     ]
    }
   ],
   "source": [
    "retriever2 = EmbeddingRetriever(\n",
    "    document_store=document_store,\n",
    "    embedding_model=\"sentence-transformers/multi-qa-mpnet-base-dot-v1\",\n",
    "    model_format=\"sentence_transformers\"\n",
    ")\n",
    "\n",
    "document_store.update_embeddings(retriever2)\n",
    "\n",
    "reader2 = FARMReader(model_name_or_path=\"deepset/roberta-base-squad2\")\n",
    "\n",
    "pipe2 = ExtractiveQAPipeline(reader2, retriever2)\n",
    "\n",
    "prediction2 = pipe2.run(query=\"What is the budget for project party?\", params={\"Retriever\": {\"top_k\": 10}, \"Reader\": {\"top_k\": 5}})\n",
    "\n",
    "# print(len(prediction))\n",
    "pprint(prediction2)\n",
    "#~ 7-8min to train"
   ]
  },
  {
   "cell_type": "code",
   "execution_count": 62,
   "id": "e434f3ba",
   "metadata": {},
   "outputs": [
    {
     "name": "stdout",
     "output_type": "stream",
     "text": [
      "\n",
      "Query: What is the budget for project party?\n",
      "Answers:\n",
      "[   {   'answer': 'Rs. 750/- per head per duration',\n",
      "        'context': 'quency: Once in six months (i.e. 2 times in year)\\n'\n",
      "                   '• Amount: Rs. 750/- per head per duration\\n'\n",
      "                   'The Project Party will be held for a Project/Function as a',\n",
      "        'score': 0.615727037191391},\n",
      "    {   'answer': '100',\n",
      "        'context': 'reimbursement of the health insurance plan will be borne '\n",
      "                   'by\\n'\n",
      "                   'the employee. 100\\n'\n",
      "                   'Project Party\\n'\n",
      "                   'Objective To promote team spirit within project/dept./team',\n",
      "        'score': 0.15544985234737396},\n",
      "    {   'answer': '3. The budget allocated is for the specified duration',\n",
      "        'context': 'U or project are eligible for the project party. 3. The '\n",
      "                   'budget allocated is for the specified duration. the unused '\n",
      "                   'budget for H1 (Apr to\\n'\n",
      "                   'Sept) will be',\n",
      "        'score': 0.13063855469226837},\n",
      "    {   'answer': 'allocated amount',\n",
      "        'context': 're that every member of your team has attended the party, '\n",
      "                   'since the\\n'\n",
      "                   'allocated amount of the project party will lapse for all '\n",
      "                   'those who could not atten',\n",
      "        'score': 0.108272984623909},\n",
      "    {   'answer': 'Availability of Learning and Development Budget',\n",
      "        'context': 'lient and Company confidentiality\\n'\n",
      "                   '• ISMS approval\\n'\n",
      "                   '• Availability of Learning and Development Budget\\n'\n",
      "                   'Procedure\\n'\n",
      "                   '1. The employee is required to send the ',\n",
      "        'score': 0.06758108548820019}]\n"
     ]
    }
   ],
   "source": [
    "print_answers(prediction2, details=\"medium\")"
   ]
  },
  {
   "cell_type": "code",
   "execution_count": null,
   "id": "f0699463",
   "metadata": {},
   "outputs": [],
   "source": []
  },
  {
   "cell_type": "code",
   "execution_count": 64,
   "id": "a1c3bbff",
   "metadata": {
    "scrolled": false
   },
   "outputs": [
    {
     "name": "stderr",
     "output_type": "stream",
     "text": [
      "WARNING - haystack.utils.doc_store -  Tried to start Elasticsearch through Docker but this failed. It is likely that there is already an existing Elasticsearch instance running. \n"
     ]
    },
    {
     "name": "stdout",
     "output_type": "stream",
     "text": [
      "Waiting for ES to start...\n"
     ]
    },
    {
     "name": "stderr",
     "output_type": "stream",
     "text": [
      "WARNING - elasticsearch -  HEAD http://localhost:9200/ [status:N/A request:4.527s]\n",
      "Traceback (most recent call last):\n",
      "  File \"C:\\Users\\Admin\\anaconda3\\envs\\cxt_srch\\lib\\site-packages\\urllib3\\connection.py\", line 175, in _new_conn\n",
      "    (self._dns_host, self.port), self.timeout, **extra_kw\n",
      "  File \"C:\\Users\\Admin\\anaconda3\\envs\\cxt_srch\\lib\\site-packages\\urllib3\\util\\connection.py\", line 95, in create_connection\n",
      "    raise err\n",
      "  File \"C:\\Users\\Admin\\anaconda3\\envs\\cxt_srch\\lib\\site-packages\\urllib3\\util\\connection.py\", line 85, in create_connection\n",
      "    sock.connect(sa)\n",
      "ConnectionRefusedError: [WinError 10061] No connection could be made because the target machine actively refused it\n",
      "\n",
      "During handling of the above exception, another exception occurred:\n",
      "\n",
      "Traceback (most recent call last):\n",
      "  File \"C:\\Users\\Admin\\anaconda3\\envs\\cxt_srch\\lib\\site-packages\\elasticsearch\\connection\\http_urllib3.py\", line 246, in perform_request\n",
      "    method, url, body, retries=Retry(False), headers=request_headers, **kw\n",
      "  File \"C:\\Users\\Admin\\anaconda3\\envs\\cxt_srch\\lib\\site-packages\\urllib3\\connectionpool.py\", line 786, in urlopen\n",
      "    method, url, error=e, _pool=self, _stacktrace=sys.exc_info()[2]\n",
      "  File \"C:\\Users\\Admin\\anaconda3\\envs\\cxt_srch\\lib\\site-packages\\urllib3\\util\\retry.py\", line 525, in increment\n",
      "    raise six.reraise(type(error), error, _stacktrace)\n",
      "  File \"C:\\Users\\Admin\\anaconda3\\envs\\cxt_srch\\lib\\site-packages\\urllib3\\packages\\six.py\", line 770, in reraise\n",
      "    raise value\n",
      "  File \"C:\\Users\\Admin\\anaconda3\\envs\\cxt_srch\\lib\\site-packages\\urllib3\\connectionpool.py\", line 710, in urlopen\n",
      "    chunked=chunked,\n",
      "  File \"C:\\Users\\Admin\\anaconda3\\envs\\cxt_srch\\lib\\site-packages\\urllib3\\connectionpool.py\", line 398, in _make_request\n",
      "    conn.request(method, url, **httplib_request_kw)\n",
      "  File \"C:\\Users\\Admin\\anaconda3\\envs\\cxt_srch\\lib\\site-packages\\urllib3\\connection.py\", line 239, in request\n",
      "    super(HTTPConnection, self).request(method, url, body=body, headers=headers)\n",
      "  File \"C:\\Users\\Admin\\anaconda3\\envs\\cxt_srch\\lib\\http\\client.py\", line 1281, in request\n",
      "    self._send_request(method, url, body, headers, encode_chunked)\n",
      "  File \"C:\\Users\\Admin\\anaconda3\\envs\\cxt_srch\\lib\\http\\client.py\", line 1327, in _send_request\n",
      "    self.endheaders(body, encode_chunked=encode_chunked)\n",
      "  File \"C:\\Users\\Admin\\anaconda3\\envs\\cxt_srch\\lib\\http\\client.py\", line 1276, in endheaders\n",
      "    self._send_output(message_body, encode_chunked=encode_chunked)\n",
      "  File \"C:\\Users\\Admin\\anaconda3\\envs\\cxt_srch\\lib\\http\\client.py\", line 1036, in _send_output\n",
      "    self.send(msg)\n",
      "  File \"C:\\Users\\Admin\\anaconda3\\envs\\cxt_srch\\lib\\http\\client.py\", line 976, in send\n",
      "    self.connect()\n",
      "  File \"C:\\Users\\Admin\\anaconda3\\envs\\cxt_srch\\lib\\site-packages\\urllib3\\connection.py\", line 205, in connect\n",
      "    conn = self._new_conn()\n",
      "  File \"C:\\Users\\Admin\\anaconda3\\envs\\cxt_srch\\lib\\site-packages\\urllib3\\connection.py\", line 187, in _new_conn\n",
      "    self, \"Failed to establish a new connection: %s\" % e\n",
      "urllib3.exceptions.NewConnectionError: <urllib3.connection.HTTPConnection object at 0x000001DE9E55F808>: Failed to establish a new connection: [WinError 10061] No connection could be made because the target machine actively refused it\n",
      "WARNING - elasticsearch -  HEAD http://localhost:9200/ [status:N/A request:4.056s]\n",
      "Traceback (most recent call last):\n",
      "  File \"C:\\Users\\Admin\\anaconda3\\envs\\cxt_srch\\lib\\site-packages\\urllib3\\connection.py\", line 175, in _new_conn\n",
      "    (self._dns_host, self.port), self.timeout, **extra_kw\n",
      "  File \"C:\\Users\\Admin\\anaconda3\\envs\\cxt_srch\\lib\\site-packages\\urllib3\\util\\connection.py\", line 95, in create_connection\n",
      "    raise err\n",
      "  File \"C:\\Users\\Admin\\anaconda3\\envs\\cxt_srch\\lib\\site-packages\\urllib3\\util\\connection.py\", line 85, in create_connection\n",
      "    sock.connect(sa)\n",
      "ConnectionRefusedError: [WinError 10061] No connection could be made because the target machine actively refused it\n",
      "\n",
      "During handling of the above exception, another exception occurred:\n",
      "\n",
      "Traceback (most recent call last):\n",
      "  File \"C:\\Users\\Admin\\anaconda3\\envs\\cxt_srch\\lib\\site-packages\\elasticsearch\\connection\\http_urllib3.py\", line 246, in perform_request\n",
      "    method, url, body, retries=Retry(False), headers=request_headers, **kw\n",
      "  File \"C:\\Users\\Admin\\anaconda3\\envs\\cxt_srch\\lib\\site-packages\\urllib3\\connectionpool.py\", line 786, in urlopen\n",
      "    method, url, error=e, _pool=self, _stacktrace=sys.exc_info()[2]\n",
      "  File \"C:\\Users\\Admin\\anaconda3\\envs\\cxt_srch\\lib\\site-packages\\urllib3\\util\\retry.py\", line 525, in increment\n",
      "    raise six.reraise(type(error), error, _stacktrace)\n",
      "  File \"C:\\Users\\Admin\\anaconda3\\envs\\cxt_srch\\lib\\site-packages\\urllib3\\packages\\six.py\", line 770, in reraise\n",
      "    raise value\n",
      "  File \"C:\\Users\\Admin\\anaconda3\\envs\\cxt_srch\\lib\\site-packages\\urllib3\\connectionpool.py\", line 710, in urlopen\n",
      "    chunked=chunked,\n",
      "  File \"C:\\Users\\Admin\\anaconda3\\envs\\cxt_srch\\lib\\site-packages\\urllib3\\connectionpool.py\", line 398, in _make_request\n",
      "    conn.request(method, url, **httplib_request_kw)\n",
      "  File \"C:\\Users\\Admin\\anaconda3\\envs\\cxt_srch\\lib\\site-packages\\urllib3\\connection.py\", line 239, in request\n",
      "    super(HTTPConnection, self).request(method, url, body=body, headers=headers)\n",
      "  File \"C:\\Users\\Admin\\anaconda3\\envs\\cxt_srch\\lib\\http\\client.py\", line 1281, in request\n",
      "    self._send_request(method, url, body, headers, encode_chunked)\n",
      "  File \"C:\\Users\\Admin\\anaconda3\\envs\\cxt_srch\\lib\\http\\client.py\", line 1327, in _send_request\n",
      "    self.endheaders(body, encode_chunked=encode_chunked)\n",
      "  File \"C:\\Users\\Admin\\anaconda3\\envs\\cxt_srch\\lib\\http\\client.py\", line 1276, in endheaders\n",
      "    self._send_output(message_body, encode_chunked=encode_chunked)\n",
      "  File \"C:\\Users\\Admin\\anaconda3\\envs\\cxt_srch\\lib\\http\\client.py\", line 1036, in _send_output\n",
      "    self.send(msg)\n",
      "  File \"C:\\Users\\Admin\\anaconda3\\envs\\cxt_srch\\lib\\http\\client.py\", line 976, in send\n",
      "    self.connect()\n",
      "  File \"C:\\Users\\Admin\\anaconda3\\envs\\cxt_srch\\lib\\site-packages\\urllib3\\connection.py\", line 205, in connect\n",
      "    conn = self._new_conn()\n",
      "  File \"C:\\Users\\Admin\\anaconda3\\envs\\cxt_srch\\lib\\site-packages\\urllib3\\connection.py\", line 187, in _new_conn\n",
      "    self, \"Failed to establish a new connection: %s\" % e\n",
      "urllib3.exceptions.NewConnectionError: <urllib3.connection.HTTPConnection object at 0x000001DE9E556D88>: Failed to establish a new connection: [WinError 10061] No connection could be made because the target machine actively refused it\n",
      "WARNING - elasticsearch -  HEAD http://localhost:9200/ [status:N/A request:4.110s]\n",
      "Traceback (most recent call last):\n",
      "  File \"C:\\Users\\Admin\\anaconda3\\envs\\cxt_srch\\lib\\site-packages\\urllib3\\connection.py\", line 175, in _new_conn\n",
      "    (self._dns_host, self.port), self.timeout, **extra_kw\n",
      "  File \"C:\\Users\\Admin\\anaconda3\\envs\\cxt_srch\\lib\\site-packages\\urllib3\\util\\connection.py\", line 95, in create_connection\n",
      "    raise err\n",
      "  File \"C:\\Users\\Admin\\anaconda3\\envs\\cxt_srch\\lib\\site-packages\\urllib3\\util\\connection.py\", line 85, in create_connection\n",
      "    sock.connect(sa)\n",
      "ConnectionRefusedError: [WinError 10061] No connection could be made because the target machine actively refused it\n",
      "\n",
      "During handling of the above exception, another exception occurred:\n",
      "\n",
      "Traceback (most recent call last):\n",
      "  File \"C:\\Users\\Admin\\anaconda3\\envs\\cxt_srch\\lib\\site-packages\\elasticsearch\\connection\\http_urllib3.py\", line 246, in perform_request\n",
      "    method, url, body, retries=Retry(False), headers=request_headers, **kw\n",
      "  File \"C:\\Users\\Admin\\anaconda3\\envs\\cxt_srch\\lib\\site-packages\\urllib3\\connectionpool.py\", line 786, in urlopen\n",
      "    method, url, error=e, _pool=self, _stacktrace=sys.exc_info()[2]\n",
      "  File \"C:\\Users\\Admin\\anaconda3\\envs\\cxt_srch\\lib\\site-packages\\urllib3\\util\\retry.py\", line 525, in increment\n",
      "    raise six.reraise(type(error), error, _stacktrace)\n",
      "  File \"C:\\Users\\Admin\\anaconda3\\envs\\cxt_srch\\lib\\site-packages\\urllib3\\packages\\six.py\", line 770, in reraise\n",
      "    raise value\n",
      "  File \"C:\\Users\\Admin\\anaconda3\\envs\\cxt_srch\\lib\\site-packages\\urllib3\\connectionpool.py\", line 710, in urlopen\n",
      "    chunked=chunked,\n",
      "  File \"C:\\Users\\Admin\\anaconda3\\envs\\cxt_srch\\lib\\site-packages\\urllib3\\connectionpool.py\", line 398, in _make_request\n",
      "    conn.request(method, url, **httplib_request_kw)\n",
      "  File \"C:\\Users\\Admin\\anaconda3\\envs\\cxt_srch\\lib\\site-packages\\urllib3\\connection.py\", line 239, in request\n",
      "    super(HTTPConnection, self).request(method, url, body=body, headers=headers)\n",
      "  File \"C:\\Users\\Admin\\anaconda3\\envs\\cxt_srch\\lib\\http\\client.py\", line 1281, in request\n",
      "    self._send_request(method, url, body, headers, encode_chunked)\n",
      "  File \"C:\\Users\\Admin\\anaconda3\\envs\\cxt_srch\\lib\\http\\client.py\", line 1327, in _send_request\n",
      "    self.endheaders(body, encode_chunked=encode_chunked)\n",
      "  File \"C:\\Users\\Admin\\anaconda3\\envs\\cxt_srch\\lib\\http\\client.py\", line 1276, in endheaders\n",
      "    self._send_output(message_body, encode_chunked=encode_chunked)\n",
      "  File \"C:\\Users\\Admin\\anaconda3\\envs\\cxt_srch\\lib\\http\\client.py\", line 1036, in _send_output\n",
      "    self.send(msg)\n",
      "  File \"C:\\Users\\Admin\\anaconda3\\envs\\cxt_srch\\lib\\http\\client.py\", line 976, in send\n",
      "    self.connect()\n",
      "  File \"C:\\Users\\Admin\\anaconda3\\envs\\cxt_srch\\lib\\site-packages\\urllib3\\connection.py\", line 205, in connect\n",
      "    conn = self._new_conn()\n",
      "  File \"C:\\Users\\Admin\\anaconda3\\envs\\cxt_srch\\lib\\site-packages\\urllib3\\connection.py\", line 187, in _new_conn\n",
      "    self, \"Failed to establish a new connection: %s\" % e\n",
      "urllib3.exceptions.NewConnectionError: <urllib3.connection.HTTPConnection object at 0x000001DEA072EB08>: Failed to establish a new connection: [WinError 10061] No connection could be made because the target machine actively refused it\n"
     ]
    },
    {
     "name": "stderr",
     "output_type": "stream",
     "text": [
      "WARNING - elasticsearch -  HEAD http://localhost:9200/ [status:N/A request:4.114s]\n",
      "Traceback (most recent call last):\n",
      "  File \"C:\\Users\\Admin\\anaconda3\\envs\\cxt_srch\\lib\\site-packages\\urllib3\\connection.py\", line 175, in _new_conn\n",
      "    (self._dns_host, self.port), self.timeout, **extra_kw\n",
      "  File \"C:\\Users\\Admin\\anaconda3\\envs\\cxt_srch\\lib\\site-packages\\urllib3\\util\\connection.py\", line 95, in create_connection\n",
      "    raise err\n",
      "  File \"C:\\Users\\Admin\\anaconda3\\envs\\cxt_srch\\lib\\site-packages\\urllib3\\util\\connection.py\", line 85, in create_connection\n",
      "    sock.connect(sa)\n",
      "ConnectionRefusedError: [WinError 10061] No connection could be made because the target machine actively refused it\n",
      "\n",
      "During handling of the above exception, another exception occurred:\n",
      "\n",
      "Traceback (most recent call last):\n",
      "  File \"C:\\Users\\Admin\\anaconda3\\envs\\cxt_srch\\lib\\site-packages\\elasticsearch\\connection\\http_urllib3.py\", line 246, in perform_request\n",
      "    method, url, body, retries=Retry(False), headers=request_headers, **kw\n",
      "  File \"C:\\Users\\Admin\\anaconda3\\envs\\cxt_srch\\lib\\site-packages\\urllib3\\connectionpool.py\", line 786, in urlopen\n",
      "    method, url, error=e, _pool=self, _stacktrace=sys.exc_info()[2]\n",
      "  File \"C:\\Users\\Admin\\anaconda3\\envs\\cxt_srch\\lib\\site-packages\\urllib3\\util\\retry.py\", line 525, in increment\n",
      "    raise six.reraise(type(error), error, _stacktrace)\n",
      "  File \"C:\\Users\\Admin\\anaconda3\\envs\\cxt_srch\\lib\\site-packages\\urllib3\\packages\\six.py\", line 770, in reraise\n",
      "    raise value\n",
      "  File \"C:\\Users\\Admin\\anaconda3\\envs\\cxt_srch\\lib\\site-packages\\urllib3\\connectionpool.py\", line 710, in urlopen\n",
      "    chunked=chunked,\n",
      "  File \"C:\\Users\\Admin\\anaconda3\\envs\\cxt_srch\\lib\\site-packages\\urllib3\\connectionpool.py\", line 398, in _make_request\n",
      "    conn.request(method, url, **httplib_request_kw)\n",
      "  File \"C:\\Users\\Admin\\anaconda3\\envs\\cxt_srch\\lib\\site-packages\\urllib3\\connection.py\", line 239, in request\n",
      "    super(HTTPConnection, self).request(method, url, body=body, headers=headers)\n",
      "  File \"C:\\Users\\Admin\\anaconda3\\envs\\cxt_srch\\lib\\http\\client.py\", line 1281, in request\n",
      "    self._send_request(method, url, body, headers, encode_chunked)\n",
      "  File \"C:\\Users\\Admin\\anaconda3\\envs\\cxt_srch\\lib\\http\\client.py\", line 1327, in _send_request\n",
      "    self.endheaders(body, encode_chunked=encode_chunked)\n",
      "  File \"C:\\Users\\Admin\\anaconda3\\envs\\cxt_srch\\lib\\http\\client.py\", line 1276, in endheaders\n",
      "    self._send_output(message_body, encode_chunked=encode_chunked)\n",
      "  File \"C:\\Users\\Admin\\anaconda3\\envs\\cxt_srch\\lib\\http\\client.py\", line 1036, in _send_output\n",
      "    self.send(msg)\n",
      "  File \"C:\\Users\\Admin\\anaconda3\\envs\\cxt_srch\\lib\\http\\client.py\", line 976, in send\n",
      "    self.connect()\n",
      "  File \"C:\\Users\\Admin\\anaconda3\\envs\\cxt_srch\\lib\\site-packages\\urllib3\\connection.py\", line 205, in connect\n",
      "    conn = self._new_conn()\n",
      "  File \"C:\\Users\\Admin\\anaconda3\\envs\\cxt_srch\\lib\\site-packages\\urllib3\\connection.py\", line 187, in _new_conn\n",
      "    self, \"Failed to establish a new connection: %s\" % e\n",
      "urllib3.exceptions.NewConnectionError: <urllib3.connection.HTTPConnection object at 0x000001DEA072DA08>: Failed to establish a new connection: [WinError 10061] No connection could be made because the target machine actively refused it\n"
     ]
    },
    {
     "ename": "ConnectionError",
     "evalue": "Initial connection to Elasticsearch failed. Make sure you run an Elasticsearch instance at `[{'host': 'localhost', 'port': 9200}]` and that it has finished the initial ramp up (can take > 30s).",
     "output_type": "error",
     "traceback": [
      "\u001b[1;31m---------------------------------------------------------------------------\u001b[0m",
      "\u001b[1;31mConnectionError\u001b[0m                           Traceback (most recent call last)",
      "\u001b[1;32m~\\anaconda3\\envs\\cxt_srch\\lib\\site-packages\\haystack\\document_stores\\elasticsearch.py\u001b[0m in \u001b[0;36m_init_elastic_client\u001b[1;34m(cls, host, port, username, password, api_key_id, api_key, aws4auth, scheme, ca_certs, verify_certs, timeout, use_system_proxy)\u001b[0m\n\u001b[0;32m   1833\u001b[0m                     raise ConnectionError(\n\u001b[1;32m-> 1834\u001b[1;33m                         \u001b[1;34mf\"Initial connection to Elasticsearch failed. Make sure you run an Elasticsearch instance \"\u001b[0m\u001b[1;33m\u001b[0m\u001b[1;33m\u001b[0m\u001b[0m\n\u001b[0m\u001b[0;32m   1835\u001b[0m                         \u001b[1;34mf\"at `{hosts}` and that it has finished the initial ramp up (can take > 30s).\"\u001b[0m\u001b[1;33m\u001b[0m\u001b[1;33m\u001b[0m\u001b[0m\n",
      "\u001b[1;31mConnectionError\u001b[0m: Initial connection to Elasticsearch failed. Make sure you run an Elasticsearch instance at `[{'host': 'localhost', 'port': 9200}]` and that it has finished the initial ramp up (can take > 30s).",
      "\nDuring handling of the above exception, another exception occurred:\n",
      "\u001b[1;31mConnectionError\u001b[0m                           Traceback (most recent call last)",
      "\u001b[1;32m~\\AppData\\Local\\Temp\\ipykernel_13968\\3900843219.py\u001b[0m in \u001b[0;36m<module>\u001b[1;34m\u001b[0m\n\u001b[0;32m     15\u001b[0m \u001b[1;33m\u001b[0m\u001b[0m\n\u001b[0;32m     16\u001b[0m \u001b[1;31m# JubJObatm9NMq3cJLOa4\u001b[0m\u001b[1;33m\u001b[0m\u001b[1;33m\u001b[0m\u001b[1;33m\u001b[0m\u001b[0m\n\u001b[1;32m---> 17\u001b[1;33m \u001b[0mdocument_store\u001b[0m \u001b[1;33m=\u001b[0m \u001b[0mElasticsearchDocumentStore\u001b[0m\u001b[1;33m(\u001b[0m\u001b[0mhost\u001b[0m\u001b[1;33m=\u001b[0m\u001b[1;34m\"localhost\"\u001b[0m\u001b[1;33m,\u001b[0m \u001b[0musername\u001b[0m\u001b[1;33m=\u001b[0m\u001b[1;34m\"\"\u001b[0m\u001b[1;33m,\u001b[0m \u001b[0mpassword\u001b[0m\u001b[1;33m=\u001b[0m\u001b[1;34m\"\"\u001b[0m\u001b[1;33m,\u001b[0m \u001b[0mindex\u001b[0m\u001b[1;33m=\u001b[0m\u001b[1;34m\"document\"\u001b[0m\u001b[1;33m)\u001b[0m\u001b[1;33m\u001b[0m\u001b[1;33m\u001b[0m\u001b[0m\n\u001b[0m",
      "\u001b[1;32m~\\anaconda3\\envs\\cxt_srch\\lib\\site-packages\\haystack\\nodes\\base.py\u001b[0m in \u001b[0;36mwrapper_exportable_to_yaml\u001b[1;34m(self, *args, **kwargs)\u001b[0m\n\u001b[0;32m     29\u001b[0m \u001b[1;33m\u001b[0m\u001b[0m\n\u001b[0;32m     30\u001b[0m         \u001b[1;31m# Call the actuall __init__ function with all the arguments\u001b[0m\u001b[1;33m\u001b[0m\u001b[1;33m\u001b[0m\u001b[1;33m\u001b[0m\u001b[0m\n\u001b[1;32m---> 31\u001b[1;33m         \u001b[0minit_func\u001b[0m\u001b[1;33m(\u001b[0m\u001b[0mself\u001b[0m\u001b[1;33m,\u001b[0m \u001b[1;33m*\u001b[0m\u001b[0margs\u001b[0m\u001b[1;33m,\u001b[0m \u001b[1;33m**\u001b[0m\u001b[0mkwargs\u001b[0m\u001b[1;33m)\u001b[0m\u001b[1;33m\u001b[0m\u001b[1;33m\u001b[0m\u001b[0m\n\u001b[0m\u001b[0;32m     32\u001b[0m \u001b[1;33m\u001b[0m\u001b[0m\n\u001b[0;32m     33\u001b[0m         \u001b[1;31m# Create the configuration dictionary if it doesn't exist yet\u001b[0m\u001b[1;33m\u001b[0m\u001b[1;33m\u001b[0m\u001b[1;33m\u001b[0m\u001b[0m\n",
      "\u001b[1;32m~\\anaconda3\\envs\\cxt_srch\\lib\\site-packages\\haystack\\document_stores\\elasticsearch.py\u001b[0m in \u001b[0;36m__init__\u001b[1;34m(self, host, port, username, password, api_key_id, api_key, aws4auth, index, label_index, search_fields, content_field, name_field, embedding_field, embedding_dim, custom_mapping, excluded_meta_data, analyzer, scheme, ca_certs, verify_certs, recreate_index, create_index, refresh_type, similarity, timeout, return_embedding, duplicate_documents, index_type, scroll, skip_missing_embeddings, synonyms, synonym_type, use_system_proxy)\u001b[0m\n\u001b[0;32m   1726\u001b[0m             \u001b[0mverify_certs\u001b[0m\u001b[1;33m=\u001b[0m\u001b[0mverify_certs\u001b[0m\u001b[1;33m,\u001b[0m\u001b[1;33m\u001b[0m\u001b[1;33m\u001b[0m\u001b[0m\n\u001b[0;32m   1727\u001b[0m             \u001b[0mtimeout\u001b[0m\u001b[1;33m=\u001b[0m\u001b[0mtimeout\u001b[0m\u001b[1;33m,\u001b[0m\u001b[1;33m\u001b[0m\u001b[1;33m\u001b[0m\u001b[0m\n\u001b[1;32m-> 1728\u001b[1;33m             \u001b[0muse_system_proxy\u001b[0m\u001b[1;33m=\u001b[0m\u001b[0muse_system_proxy\u001b[0m\u001b[1;33m,\u001b[0m\u001b[1;33m\u001b[0m\u001b[1;33m\u001b[0m\u001b[0m\n\u001b[0m\u001b[0;32m   1729\u001b[0m         )\n\u001b[0;32m   1730\u001b[0m \u001b[1;33m\u001b[0m\u001b[0m\n",
      "\u001b[1;32m~\\anaconda3\\envs\\cxt_srch\\lib\\site-packages\\haystack\\document_stores\\elasticsearch.py\u001b[0m in \u001b[0;36m_init_elastic_client\u001b[1;34m(cls, host, port, username, password, api_key_id, api_key, aws4auth, scheme, ca_certs, verify_certs, timeout, use_system_proxy)\u001b[0m\n\u001b[0;32m   1837\u001b[0m         \u001b[1;32mexcept\u001b[0m \u001b[0mException\u001b[0m\u001b[1;33m:\u001b[0m\u001b[1;33m\u001b[0m\u001b[1;33m\u001b[0m\u001b[0m\n\u001b[0;32m   1838\u001b[0m             raise ConnectionError(\n\u001b[1;32m-> 1839\u001b[1;33m                 \u001b[1;34mf\"Initial connection to Elasticsearch failed. Make sure you run an Elasticsearch instance at `{hosts}` and that it has finished the initial ramp up (can take > 30s).\"\u001b[0m\u001b[1;33m\u001b[0m\u001b[1;33m\u001b[0m\u001b[0m\n\u001b[0m\u001b[0;32m   1840\u001b[0m             )\n\u001b[0;32m   1841\u001b[0m         \u001b[1;32mreturn\u001b[0m \u001b[0mclient\u001b[0m\u001b[1;33m\u001b[0m\u001b[1;33m\u001b[0m\u001b[0m\n",
      "\u001b[1;31mConnectionError\u001b[0m: Initial connection to Elasticsearch failed. Make sure you run an Elasticsearch instance at `[{'host': 'localhost', 'port': 9200}]` and that it has finished the initial ramp up (can take > 30s)."
     ]
    }
   ],
   "source": [
    "import os\n",
    "import time\n",
    "from subprocess import Popen, PIPE, STDOUT\n",
    "from haystack.document_stores import ElasticsearchDocumentStore\n",
    "from haystack.utils import launch_es\n",
    "curr_dir = os.getcwd()\n",
    "\n",
    "launch_es()\n",
    "es_server = Popen([curr_dir + \"\\\\elasticsearch-7.9.2\\\\bin\\\\elasticsearch.bat\"], stdout=PIPE, stderr=STDOUT)\n",
    "\n",
    "print(\"Waiting for ES to start...\")\n",
    "time.sleep(30) # Waiting until ES has started\n",
    "\n",
    "# JubJObatm9NMq3cJLOa4\n",
    "document_store = ElasticsearchDocumentStore(host=\"localhost\", username=\"\", password=\"\", index=\"document\")"
   ]
  },
  {
   "cell_type": "code",
   "execution_count": null,
   "id": "ae336c10",
   "metadata": {},
   "outputs": [],
   "source": []
  }
 ],
 "metadata": {
  "kernelspec": {
   "display_name": "Python 3 (ipykernel)",
   "language": "python",
   "name": "python3"
  },
  "language_info": {
   "codemirror_mode": {
    "name": "ipython",
    "version": 3
   },
   "file_extension": ".py",
   "mimetype": "text/x-python",
   "name": "python",
   "nbconvert_exporter": "python",
   "pygments_lexer": "ipython3",
   "version": "3.7.13"
  }
 },
 "nbformat": 4,
 "nbformat_minor": 5
}
